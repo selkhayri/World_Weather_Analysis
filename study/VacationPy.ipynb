{
 "cells": [
  {
   "cell_type": "markdown",
   "metadata": {},
   "source": [
    "# 6.5.2 Create Heatmaps for Weather Parameters"
   ]
  },
  {
   "cell_type": "code",
   "execution_count": 1,
   "metadata": {},
   "outputs": [],
   "source": [
    "# Import the dependencies.\n",
    "import pandas as pd\n",
    "import gmaps\n",
    "import requests\n",
    "# Import the API key.\n",
    "from config import g_key"
   ]
  },
  {
   "cell_type": "code",
   "execution_count": 2,
   "metadata": {},
   "outputs": [
    {
     "data": {
      "text/html": [
       "<div>\n",
       "<style scoped>\n",
       "    .dataframe tbody tr th:only-of-type {\n",
       "        vertical-align: middle;\n",
       "    }\n",
       "\n",
       "    .dataframe tbody tr th {\n",
       "        vertical-align: top;\n",
       "    }\n",
       "\n",
       "    .dataframe thead th {\n",
       "        text-align: right;\n",
       "    }\n",
       "</style>\n",
       "<table border=\"1\" class=\"dataframe\">\n",
       "  <thead>\n",
       "    <tr style=\"text-align: right;\">\n",
       "      <th></th>\n",
       "      <th>City_ID</th>\n",
       "      <th>City</th>\n",
       "      <th>Country</th>\n",
       "      <th>Date</th>\n",
       "      <th>Lat</th>\n",
       "      <th>Lng</th>\n",
       "      <th>Max Temp</th>\n",
       "      <th>Humidity</th>\n",
       "      <th>Cloudiness</th>\n",
       "      <th>Wind Speed</th>\n",
       "    </tr>\n",
       "  </thead>\n",
       "  <tbody>\n",
       "    <tr>\n",
       "      <th>0</th>\n",
       "      <td>0</td>\n",
       "      <td>Bluff</td>\n",
       "      <td>NZ</td>\n",
       "      <td>2020-05-23 13:58:34</td>\n",
       "      <td>-46.60</td>\n",
       "      <td>168.33</td>\n",
       "      <td>49.23</td>\n",
       "      <td>81</td>\n",
       "      <td>100</td>\n",
       "      <td>6.02</td>\n",
       "    </tr>\n",
       "    <tr>\n",
       "      <th>1</th>\n",
       "      <td>1</td>\n",
       "      <td>Port Alfred</td>\n",
       "      <td>ZA</td>\n",
       "      <td>2020-05-23 14:02:46</td>\n",
       "      <td>-33.59</td>\n",
       "      <td>26.89</td>\n",
       "      <td>66.99</td>\n",
       "      <td>78</td>\n",
       "      <td>0</td>\n",
       "      <td>1.99</td>\n",
       "    </tr>\n",
       "    <tr>\n",
       "      <th>2</th>\n",
       "      <td>2</td>\n",
       "      <td>Broome</td>\n",
       "      <td>US</td>\n",
       "      <td>2020-05-23 14:02:46</td>\n",
       "      <td>42.25</td>\n",
       "      <td>-75.83</td>\n",
       "      <td>66.00</td>\n",
       "      <td>93</td>\n",
       "      <td>75</td>\n",
       "      <td>6.93</td>\n",
       "    </tr>\n",
       "    <tr>\n",
       "      <th>3</th>\n",
       "      <td>3</td>\n",
       "      <td>Bredasdorp</td>\n",
       "      <td>ZA</td>\n",
       "      <td>2020-05-23 14:02:46</td>\n",
       "      <td>-34.53</td>\n",
       "      <td>20.04</td>\n",
       "      <td>73.40</td>\n",
       "      <td>5</td>\n",
       "      <td>0</td>\n",
       "      <td>14.99</td>\n",
       "    </tr>\n",
       "    <tr>\n",
       "      <th>4</th>\n",
       "      <td>4</td>\n",
       "      <td>Atuona</td>\n",
       "      <td>PF</td>\n",
       "      <td>2020-05-23 14:02:46</td>\n",
       "      <td>-9.80</td>\n",
       "      <td>-139.03</td>\n",
       "      <td>80.28</td>\n",
       "      <td>78</td>\n",
       "      <td>49</td>\n",
       "      <td>17.16</td>\n",
       "    </tr>\n",
       "    <tr>\n",
       "      <th>...</th>\n",
       "      <td>...</td>\n",
       "      <td>...</td>\n",
       "      <td>...</td>\n",
       "      <td>...</td>\n",
       "      <td>...</td>\n",
       "      <td>...</td>\n",
       "      <td>...</td>\n",
       "      <td>...</td>\n",
       "      <td>...</td>\n",
       "      <td>...</td>\n",
       "    </tr>\n",
       "    <tr>\n",
       "      <th>569</th>\n",
       "      <td>569</td>\n",
       "      <td>Malangali</td>\n",
       "      <td>TZ</td>\n",
       "      <td>2020-05-23 14:04:24</td>\n",
       "      <td>-8.57</td>\n",
       "      <td>34.85</td>\n",
       "      <td>70.23</td>\n",
       "      <td>54</td>\n",
       "      <td>1</td>\n",
       "      <td>10.18</td>\n",
       "    </tr>\n",
       "    <tr>\n",
       "      <th>570</th>\n",
       "      <td>570</td>\n",
       "      <td>Malchevskaya</td>\n",
       "      <td>RU</td>\n",
       "      <td>2020-05-23 14:04:24</td>\n",
       "      <td>49.06</td>\n",
       "      <td>40.36</td>\n",
       "      <td>56.80</td>\n",
       "      <td>53</td>\n",
       "      <td>100</td>\n",
       "      <td>12.75</td>\n",
       "    </tr>\n",
       "    <tr>\n",
       "      <th>571</th>\n",
       "      <td>571</td>\n",
       "      <td>Gull Lake</td>\n",
       "      <td>CA</td>\n",
       "      <td>2020-05-23 14:04:24</td>\n",
       "      <td>50.10</td>\n",
       "      <td>-108.48</td>\n",
       "      <td>41.00</td>\n",
       "      <td>86</td>\n",
       "      <td>1</td>\n",
       "      <td>12.75</td>\n",
       "    </tr>\n",
       "    <tr>\n",
       "      <th>572</th>\n",
       "      <td>572</td>\n",
       "      <td>Torit</td>\n",
       "      <td>SS</td>\n",
       "      <td>2020-05-23 14:04:24</td>\n",
       "      <td>4.41</td>\n",
       "      <td>32.57</td>\n",
       "      <td>86.97</td>\n",
       "      <td>54</td>\n",
       "      <td>95</td>\n",
       "      <td>1.99</td>\n",
       "    </tr>\n",
       "    <tr>\n",
       "      <th>573</th>\n",
       "      <td>573</td>\n",
       "      <td>Sibu</td>\n",
       "      <td>MY</td>\n",
       "      <td>2020-05-23 14:04:24</td>\n",
       "      <td>2.30</td>\n",
       "      <td>111.82</td>\n",
       "      <td>84.20</td>\n",
       "      <td>89</td>\n",
       "      <td>40</td>\n",
       "      <td>1.19</td>\n",
       "    </tr>\n",
       "  </tbody>\n",
       "</table>\n",
       "<p>574 rows × 10 columns</p>\n",
       "</div>"
      ],
      "text/plain": [
       "     City_ID          City Country                 Date    Lat     Lng  \\\n",
       "0          0         Bluff      NZ  2020-05-23 13:58:34 -46.60  168.33   \n",
       "1          1   Port Alfred      ZA  2020-05-23 14:02:46 -33.59   26.89   \n",
       "2          2        Broome      US  2020-05-23 14:02:46  42.25  -75.83   \n",
       "3          3    Bredasdorp      ZA  2020-05-23 14:02:46 -34.53   20.04   \n",
       "4          4        Atuona      PF  2020-05-23 14:02:46  -9.80 -139.03   \n",
       "..       ...           ...     ...                  ...    ...     ...   \n",
       "569      569     Malangali      TZ  2020-05-23 14:04:24  -8.57   34.85   \n",
       "570      570  Malchevskaya      RU  2020-05-23 14:04:24  49.06   40.36   \n",
       "571      571     Gull Lake      CA  2020-05-23 14:04:24  50.10 -108.48   \n",
       "572      572         Torit      SS  2020-05-23 14:04:24   4.41   32.57   \n",
       "573      573          Sibu      MY  2020-05-23 14:04:24   2.30  111.82   \n",
       "\n",
       "     Max Temp  Humidity  Cloudiness  Wind Speed  \n",
       "0       49.23        81         100        6.02  \n",
       "1       66.99        78           0        1.99  \n",
       "2       66.00        93          75        6.93  \n",
       "3       73.40         5           0       14.99  \n",
       "4       80.28        78          49       17.16  \n",
       "..        ...       ...         ...         ...  \n",
       "569     70.23        54           1       10.18  \n",
       "570     56.80        53         100       12.75  \n",
       "571     41.00        86           1       12.75  \n",
       "572     86.97        54          95        1.99  \n",
       "573     84.20        89          40        1.19  \n",
       "\n",
       "[574 rows x 10 columns]"
      ]
     },
     "execution_count": 2,
     "metadata": {},
     "output_type": "execute_result"
    }
   ],
   "source": [
    "# Store the CSV you saved created in part one into a DataFrame.\n",
    "city_data_df = pd.read_csv(\"weather_data/cities.csv\")\n",
    "city_data_df"
   ]
  },
  {
   "cell_type": "markdown",
   "metadata": {},
   "source": [
    "Confirm the data types for the data columns are integers or floating-point decimal numbers."
   ]
  },
  {
   "cell_type": "code",
   "execution_count": 3,
   "metadata": {
    "scrolled": true
   },
   "outputs": [
    {
     "data": {
      "text/plain": [
       "City_ID         int64\n",
       "City           object\n",
       "Country        object\n",
       "Date           object\n",
       "Lat           float64\n",
       "Lng           float64\n",
       "Max Temp      float64\n",
       "Humidity        int64\n",
       "Cloudiness      int64\n",
       "Wind Speed    float64\n",
       "dtype: object"
      ]
     },
     "execution_count": 3,
     "metadata": {},
     "output_type": "execute_result"
    }
   ],
   "source": [
    "city_data_df.dtypes"
   ]
  },
  {
   "cell_type": "markdown",
   "metadata": {},
   "source": [
    "Create a Maximum Temperature Heatmap"
   ]
  },
  {
   "cell_type": "code",
   "execution_count": 4,
   "metadata": {},
   "outputs": [],
   "source": [
    "# Configure gmaps to use your Google API key.\n",
    "gmaps.configure(api_key=g_key)"
   ]
  },
  {
   "cell_type": "markdown",
   "metadata": {},
   "source": [
    "Next, create the heatmap for the maximum temperature."
   ]
  },
  {
   "cell_type": "code",
   "execution_count": 5,
   "metadata": {},
   "outputs": [
    {
     "data": {
      "application/vnd.jupyter.widget-view+json": {
       "model_id": "2d3f0b4859e244ea81ff8b8d09d2048e",
       "version_major": 2,
       "version_minor": 0
      },
      "text/plain": [
       "Figure(layout=FigureLayout(height='420px'))"
      ]
     },
     "metadata": {},
     "output_type": "display_data"
    }
   ],
   "source": [
    "# Heatmap of temperature\n",
    "# Get the latitude and longitude.\n",
    "locations = city_data_df[[\"Lat\", \"Lng\"]]\n",
    "# Get the maximum temperature.\n",
    "max_temp = city_data_df[\"Max Temp\"]\n",
    "# Assign the figure variable.\n",
    "fig = gmaps.figure()\n",
    "# Assign the heatmap variable.\n",
    "heat_layer = gmaps.heatmap_layer(locations, weights=max_temp)\n",
    "# Add the heatmap layer.\n",
    "fig.add_layer(heat_layer)\n",
    "# Call the figure to plot the data.\n",
    "fig"
   ]
  },
  {
   "cell_type": "markdown",
   "metadata": {},
   "source": [
    "Google heatmaps do not plot negative numbers. \n",
    "\n",
    "To remove the negative temperatures we can use a for loop to iterate through the max_temp and add the temperatures that are greater than 0 °F to a new list."
   ]
  },
  {
   "cell_type": "code",
   "execution_count": 6,
   "metadata": {},
   "outputs": [],
   "source": [
    "# Get the maximum temperature.\n",
    "max_temp = city_data_df[\"Max Temp\"]\n",
    "temps = []\n",
    "for temp in max_temp:\n",
    "    temps.append(max(temp, 0))"
   ]
  },
  {
   "cell_type": "code",
   "execution_count": 7,
   "metadata": {},
   "outputs": [
    {
     "data": {
      "application/vnd.jupyter.widget-view+json": {
       "model_id": "9776cf1ade8d4058a9dc7b57ccfb18ed",
       "version_major": 2,
       "version_minor": 0
      },
      "text/plain": [
       "Figure(layout=FigureLayout(height='420px'))"
      ]
     },
     "metadata": {},
     "output_type": "display_data"
    }
   ],
   "source": [
    "# Heatmap of temperature\n",
    "# Get the latitude and longitude.\n",
    "locations = city_data_df[[\"Lat\", \"Lng\"]]\n",
    "# Get the maximum temperature.\n",
    "max_temp = city_data_df[\"Max Temp\"]\n",
    "# Assign the figure variable.\n",
    "fig = gmaps.figure()\n",
    "# Assign the heatmap variable.\n",
    "# heat_layer = gmaps.heatmap_layer(locations, weights=max_temp)\n",
    "heat_layer = gmaps.heatmap_layer(locations, weights=temps)\n",
    "# Add the heatmap layer.\n",
    "fig.add_layer(heat_layer)\n",
    "# Call the figure to plot the data.\n",
    "fig"
   ]
  },
  {
   "cell_type": "markdown",
   "metadata": {},
   "source": [
    "Using list comprehension to create heat_layer"
   ]
  },
  {
   "cell_type": "code",
   "execution_count": 8,
   "metadata": {},
   "outputs": [
    {
     "data": {
      "application/vnd.jupyter.widget-view+json": {
       "model_id": "faee15af2e8f441eb407341ba00086ef",
       "version_major": 2,
       "version_minor": 0
      },
      "text/plain": [
       "Figure(layout=FigureLayout(height='420px'))"
      ]
     },
     "metadata": {},
     "output_type": "display_data"
    }
   ],
   "source": [
    "# Heatmap of temperature\n",
    "# Get the latitude and longitude.\n",
    "locations = city_data_df[[\"Lat\", \"Lng\"]]\n",
    "# Get the maximum temperature.\n",
    "max_temp = city_data_df[\"Max Temp\"]\n",
    "# Assign the figure variable.\n",
    "fig = gmaps.figure()\n",
    "# Assign the heatmap variable.\n",
    "# heat_layer = gmaps.heatmap_layer(locations, weights=max_temp)\n",
    "# heat_layer = gmaps.heatmap_layer(locations, weights=temps)\n",
    "heat_layer = gmaps.heatmap_layer(locations, weights=[max(temp, 0) for temp in max_temp])\n",
    "# Add the heatmap layer.\n",
    "fig.add_layer(heat_layer)\n",
    "# Call the figure to plot the data.\n",
    "fig\n"
   ]
  },
  {
   "cell_type": "markdown",
   "metadata": {},
   "source": [
    "## Adjust Heatmap Zoom, Intensity, and Point Radius"
   ]
  },
  {
   "cell_type": "markdown",
   "metadata": {},
   "source": [
    "First, add the geographic center of Earth in the form of latitude and longitude (30.0° N and 31.0° E). Also, add a zoom level so that only one map of Earth is shown."
   ]
  },
  {
   "cell_type": "code",
   "execution_count": 9,
   "metadata": {},
   "outputs": [
    {
     "data": {
      "application/vnd.jupyter.widget-view+json": {
       "model_id": "60758f9c0ec54341b0eb42882ac088c7",
       "version_major": 2,
       "version_minor": 0
      },
      "text/plain": [
       "Figure(layout=FigureLayout(height='420px'))"
      ]
     },
     "metadata": {},
     "output_type": "display_data"
    }
   ],
   "source": [
    "fig = gmaps.figure(center=(30.0, 31.0), zoom_level=1.5)\n",
    "# Add the heatmap layer.\n",
    "fig.add_layer(heat_layer)\n",
    "# Call the figure to plot the data.\n",
    "fig"
   ]
  },
  {
   "cell_type": "markdown",
   "metadata": {},
   "source": [
    "If we scroll and zoom in on North America, we can see that the circles for the temperatures need to be modified so that they are larger and show temperature gradient differences."
   ]
  },
  {
   "cell_type": "code",
   "execution_count": 10,
   "metadata": {},
   "outputs": [
    {
     "data": {
      "application/vnd.jupyter.widget-view+json": {
       "model_id": "425f896f2ea9419da79b132324127c49",
       "version_major": 2,
       "version_minor": 0
      },
      "text/plain": [
       "Figure(layout=FigureLayout(height='420px'))"
      ]
     },
     "metadata": {},
     "output_type": "display_data"
    }
   ],
   "source": [
    "# Heatmap of temperature\n",
    "# Get the latitude and longitude.\n",
    "locations = city_data_df[[\"Lat\", \"Lng\"]]\n",
    "# Get the maximum temperature.\n",
    "max_temp = city_data_df[\"Max Temp\"]\n",
    "# Assign the figure variable.\n",
    "fig = gmaps.figure()\n",
    "# Assign the heatmap variable.\n",
    "# heat_layer = gmaps.heatmap_layer(locations, weights=max_temp)\n",
    "# heat_layer = gmaps.heatmap_layer(locations, weights=temps)\n",
    "# heat_layer = gmaps.heatmap_layer(locations, weights=[max(temp, 0) for temp in max_temp])\n",
    "heat_layer = gmaps.heatmap_layer(locations, weights=temps, dissipating=False, max_intensity=300, point_radius=4)\n",
    "# Add the heatmap layer.\n",
    "fig.add_layer(heat_layer)\n",
    "# Call the figure to plot the data.\n",
    "fig"
   ]
  },
  {
   "cell_type": "markdown",
   "metadata": {},
   "source": [
    "## Create a Percent Humidity Heatmap"
   ]
  },
  {
   "cell_type": "code",
   "execution_count": 11,
   "metadata": {
    "scrolled": true
   },
   "outputs": [
    {
     "data": {
      "application/vnd.jupyter.widget-view+json": {
       "model_id": "2d0e7ac4a5b046f0b8eb1cfe49c301d1",
       "version_major": 2,
       "version_minor": 0
      },
      "text/plain": [
       "Figure(layout=FigureLayout(height='420px'))"
      ]
     },
     "metadata": {},
     "output_type": "display_data"
    }
   ],
   "source": [
    "# Heatmap of percent humidity\n",
    "locations = city_data_df[[\"Lat\", \"Lng\"]]\n",
    "humidity = city_data_df[\"Humidity\"]\n",
    "fig = gmaps.figure(center=(30.0, 31.0), zoom_level=1.5)\n",
    "heat_layer = gmaps.heatmap_layer(locations, weights=humidity, dissipating=False, max_intensity=300, point_radius=4)\n",
    "\n",
    "fig.add_layer(heat_layer)\n",
    "# Call the figure to plot the data.\n",
    "fig"
   ]
  },
  {
   "cell_type": "markdown",
   "metadata": {},
   "source": [
    "## Create a Percent Cloudiness Heatmap"
   ]
  },
  {
   "cell_type": "code",
   "execution_count": 12,
   "metadata": {
    "scrolled": true
   },
   "outputs": [
    {
     "data": {
      "application/vnd.jupyter.widget-view+json": {
       "model_id": "1e0819601fde4756ba5940994c5f1a68",
       "version_major": 2,
       "version_minor": 0
      },
      "text/plain": [
       "Figure(layout=FigureLayout(height='420px'))"
      ]
     },
     "metadata": {},
     "output_type": "display_data"
    }
   ],
   "source": [
    "# Heatmap of percent cloudiness\n",
    "locations = city_data_df[[\"Lat\", \"Lng\"]]\n",
    "clouds = city_data_df[\"Cloudiness\"]\n",
    "fig = gmaps.figure(center=(30.0, 31.0), zoom_level=1.5)\n",
    "heat_layer = gmaps.heatmap_layer(locations, weights=clouds, dissipating=False, max_intensity=300, point_radius=4)\n",
    "\n",
    "fig.add_layer(heat_layer)\n",
    "# Call the figure to plot the data.\n",
    "fig"
   ]
  },
  {
   "cell_type": "markdown",
   "metadata": {},
   "source": [
    "## Create a Wind Speed Heatmap"
   ]
  },
  {
   "cell_type": "code",
   "execution_count": 13,
   "metadata": {},
   "outputs": [
    {
     "data": {
      "application/vnd.jupyter.widget-view+json": {
       "model_id": "ea39c6ad51f941fa964c3a0c46192f86",
       "version_major": 2,
       "version_minor": 0
      },
      "text/plain": [
       "Figure(layout=FigureLayout(height='420px'))"
      ]
     },
     "metadata": {},
     "output_type": "display_data"
    }
   ],
   "source": [
    "# Heatmap of wind speed\n",
    "locations = city_data_df[[\"Lat\", \"Lng\"]]\n",
    "winds = city_data_df[\"Wind Speed\"]\n",
    "fig = gmaps.figure(center=(30.0, 31.0), zoom_level=1.5)\n",
    "heat_layer = gmaps.heatmap_layer(locations, weights=winds, dissipating=False, max_intensity=300, point_radius=4)\n",
    "\n",
    "fig.add_layer(heat_layer)\n",
    "# Call the figure to plot the data.\n",
    "fig"
   ]
  },
  {
   "cell_type": "code",
   "execution_count": 14,
   "metadata": {},
   "outputs": [
    {
     "name": "stdout",
     "output_type": "stream",
     "text": [
      "What is the minimum temperature you would like for your trip? 75\n",
      "What is the maximum temperature you would like for your trip? 90\n"
     ]
    }
   ],
   "source": [
    "# Ask the customer to add a minimum and maximum temperature value.\n",
    "min_temp = float(input(\"What is the minimum temperature you would like for your trip? \"))\n",
    "max_temp = float(input(\"What is the maximum temperature you would like for your trip? \"))"
   ]
  },
  {
   "cell_type": "markdown",
   "metadata": {},
   "source": [
    "Next, filter the maximum temperature column in the city_data_df DataFrame using logical operators to create a new DataFrame with the cities that meet the customer’s criteria."
   ]
  },
  {
   "cell_type": "code",
   "execution_count": 15,
   "metadata": {},
   "outputs": [
    {
     "data": {
      "text/html": [
       "<div>\n",
       "<style scoped>\n",
       "    .dataframe tbody tr th:only-of-type {\n",
       "        vertical-align: middle;\n",
       "    }\n",
       "\n",
       "    .dataframe tbody tr th {\n",
       "        vertical-align: top;\n",
       "    }\n",
       "\n",
       "    .dataframe thead th {\n",
       "        text-align: right;\n",
       "    }\n",
       "</style>\n",
       "<table border=\"1\" class=\"dataframe\">\n",
       "  <thead>\n",
       "    <tr style=\"text-align: right;\">\n",
       "      <th></th>\n",
       "      <th>City_ID</th>\n",
       "      <th>City</th>\n",
       "      <th>Country</th>\n",
       "      <th>Date</th>\n",
       "      <th>Lat</th>\n",
       "      <th>Lng</th>\n",
       "      <th>Max Temp</th>\n",
       "      <th>Humidity</th>\n",
       "      <th>Cloudiness</th>\n",
       "      <th>Wind Speed</th>\n",
       "    </tr>\n",
       "  </thead>\n",
       "  <tbody>\n",
       "    <tr>\n",
       "      <th>4</th>\n",
       "      <td>4</td>\n",
       "      <td>Atuona</td>\n",
       "      <td>PF</td>\n",
       "      <td>2020-05-23 14:02:46</td>\n",
       "      <td>-9.80</td>\n",
       "      <td>-139.03</td>\n",
       "      <td>80.28</td>\n",
       "      <td>78</td>\n",
       "      <td>49</td>\n",
       "      <td>17.16</td>\n",
       "    </tr>\n",
       "    <tr>\n",
       "      <th>5</th>\n",
       "      <td>5</td>\n",
       "      <td>Ravar</td>\n",
       "      <td>IR</td>\n",
       "      <td>2020-05-23 14:02:47</td>\n",
       "      <td>31.27</td>\n",
       "      <td>56.81</td>\n",
       "      <td>89.94</td>\n",
       "      <td>9</td>\n",
       "      <td>0</td>\n",
       "      <td>12.82</td>\n",
       "    </tr>\n",
       "    <tr>\n",
       "      <th>8</th>\n",
       "      <td>8</td>\n",
       "      <td>Labuan</td>\n",
       "      <td>MY</td>\n",
       "      <td>2020-05-23 14:02:47</td>\n",
       "      <td>5.28</td>\n",
       "      <td>115.24</td>\n",
       "      <td>82.40</td>\n",
       "      <td>94</td>\n",
       "      <td>75</td>\n",
       "      <td>1.12</td>\n",
       "    </tr>\n",
       "    <tr>\n",
       "      <th>9</th>\n",
       "      <td>9</td>\n",
       "      <td>Butaritari</td>\n",
       "      <td>KI</td>\n",
       "      <td>2020-05-23 13:58:33</td>\n",
       "      <td>3.07</td>\n",
       "      <td>172.79</td>\n",
       "      <td>82.89</td>\n",
       "      <td>76</td>\n",
       "      <td>100</td>\n",
       "      <td>11.30</td>\n",
       "    </tr>\n",
       "    <tr>\n",
       "      <th>19</th>\n",
       "      <td>19</td>\n",
       "      <td>Ailigandi</td>\n",
       "      <td>PA</td>\n",
       "      <td>2020-05-23 14:02:49</td>\n",
       "      <td>9.23</td>\n",
       "      <td>-78.02</td>\n",
       "      <td>85.28</td>\n",
       "      <td>69</td>\n",
       "      <td>88</td>\n",
       "      <td>1.86</td>\n",
       "    </tr>\n",
       "    <tr>\n",
       "      <th>...</th>\n",
       "      <td>...</td>\n",
       "      <td>...</td>\n",
       "      <td>...</td>\n",
       "      <td>...</td>\n",
       "      <td>...</td>\n",
       "      <td>...</td>\n",
       "      <td>...</td>\n",
       "      <td>...</td>\n",
       "      <td>...</td>\n",
       "      <td>...</td>\n",
       "    </tr>\n",
       "    <tr>\n",
       "      <th>561</th>\n",
       "      <td>561</td>\n",
       "      <td>Urucurituba</td>\n",
       "      <td>BR</td>\n",
       "      <td>2020-05-23 14:04:23</td>\n",
       "      <td>-2.68</td>\n",
       "      <td>-57.67</td>\n",
       "      <td>83.34</td>\n",
       "      <td>91</td>\n",
       "      <td>70</td>\n",
       "      <td>4.41</td>\n",
       "    </tr>\n",
       "    <tr>\n",
       "      <th>564</th>\n",
       "      <td>564</td>\n",
       "      <td>Acapulco</td>\n",
       "      <td>MX</td>\n",
       "      <td>2020-05-23 14:02:01</td>\n",
       "      <td>16.86</td>\n",
       "      <td>-99.89</td>\n",
       "      <td>77.00</td>\n",
       "      <td>88</td>\n",
       "      <td>75</td>\n",
       "      <td>4.70</td>\n",
       "    </tr>\n",
       "    <tr>\n",
       "      <th>565</th>\n",
       "      <td>565</td>\n",
       "      <td>Frontera</td>\n",
       "      <td>MX</td>\n",
       "      <td>2020-05-23 14:04:23</td>\n",
       "      <td>26.93</td>\n",
       "      <td>-101.45</td>\n",
       "      <td>86.00</td>\n",
       "      <td>64</td>\n",
       "      <td>20</td>\n",
       "      <td>4.70</td>\n",
       "    </tr>\n",
       "    <tr>\n",
       "      <th>572</th>\n",
       "      <td>572</td>\n",
       "      <td>Torit</td>\n",
       "      <td>SS</td>\n",
       "      <td>2020-05-23 14:04:24</td>\n",
       "      <td>4.41</td>\n",
       "      <td>32.57</td>\n",
       "      <td>86.97</td>\n",
       "      <td>54</td>\n",
       "      <td>95</td>\n",
       "      <td>1.99</td>\n",
       "    </tr>\n",
       "    <tr>\n",
       "      <th>573</th>\n",
       "      <td>573</td>\n",
       "      <td>Sibu</td>\n",
       "      <td>MY</td>\n",
       "      <td>2020-05-23 14:04:24</td>\n",
       "      <td>2.30</td>\n",
       "      <td>111.82</td>\n",
       "      <td>84.20</td>\n",
       "      <td>89</td>\n",
       "      <td>40</td>\n",
       "      <td>1.19</td>\n",
       "    </tr>\n",
       "  </tbody>\n",
       "</table>\n",
       "<p>195 rows × 10 columns</p>\n",
       "</div>"
      ],
      "text/plain": [
       "     City_ID         City Country                 Date    Lat     Lng  \\\n",
       "4          4       Atuona      PF  2020-05-23 14:02:46  -9.80 -139.03   \n",
       "5          5        Ravar      IR  2020-05-23 14:02:47  31.27   56.81   \n",
       "8          8       Labuan      MY  2020-05-23 14:02:47   5.28  115.24   \n",
       "9          9   Butaritari      KI  2020-05-23 13:58:33   3.07  172.79   \n",
       "19        19    Ailigandi      PA  2020-05-23 14:02:49   9.23  -78.02   \n",
       "..       ...          ...     ...                  ...    ...     ...   \n",
       "561      561  Urucurituba      BR  2020-05-23 14:04:23  -2.68  -57.67   \n",
       "564      564     Acapulco      MX  2020-05-23 14:02:01  16.86  -99.89   \n",
       "565      565     Frontera      MX  2020-05-23 14:04:23  26.93 -101.45   \n",
       "572      572        Torit      SS  2020-05-23 14:04:24   4.41   32.57   \n",
       "573      573         Sibu      MY  2020-05-23 14:04:24   2.30  111.82   \n",
       "\n",
       "     Max Temp  Humidity  Cloudiness  Wind Speed  \n",
       "4       80.28        78          49       17.16  \n",
       "5       89.94         9           0       12.82  \n",
       "8       82.40        94          75        1.12  \n",
       "9       82.89        76         100       11.30  \n",
       "19      85.28        69          88        1.86  \n",
       "..        ...       ...         ...         ...  \n",
       "561     83.34        91          70        4.41  \n",
       "564     77.00        88          75        4.70  \n",
       "565     86.00        64          20        4.70  \n",
       "572     86.97        54          95        1.99  \n",
       "573     84.20        89          40        1.19  \n",
       "\n",
       "[195 rows x 10 columns]"
      ]
     },
     "execution_count": 15,
     "metadata": {},
     "output_type": "execute_result"
    }
   ],
   "source": [
    "# Filter the dataset to find the cities that fit the criteria.\n",
    "preferred_cities_df = city_data_df.loc[(city_data_df[\"Max Temp\"] >= 75) & \\\n",
    "                         (city_data_df[\"Max Temp\"] <= 90)]\n",
    "preferred_cities_df"
   ]
  },
  {
   "cell_type": "markdown",
   "metadata": {},
   "source": [
    "determine if the preferred_cities_df DataFrame has any null values for any of the rows."
   ]
  },
  {
   "cell_type": "code",
   "execution_count": 16,
   "metadata": {},
   "outputs": [
    {
     "data": {
      "text/plain": [
       "City_ID       195\n",
       "City          195\n",
       "Country       192\n",
       "Date          195\n",
       "Lat           195\n",
       "Lng           195\n",
       "Max Temp      195\n",
       "Humidity      195\n",
       "Cloudiness    195\n",
       "Wind Speed    195\n",
       "dtype: int64"
      ]
     },
     "execution_count": 16,
     "metadata": {},
     "output_type": "execute_result"
    }
   ],
   "source": [
    "preferred_cities_df.count()"
   ]
  },
  {
   "cell_type": "code",
   "execution_count": 17,
   "metadata": {},
   "outputs": [
    {
     "data": {
      "text/plain": [
       "City_ID       0\n",
       "City          0\n",
       "Country       3\n",
       "Date          0\n",
       "Lat           0\n",
       "Lng           0\n",
       "Max Temp      0\n",
       "Humidity      0\n",
       "Cloudiness    0\n",
       "Wind Speed    0\n",
       "dtype: int64"
      ]
     },
     "execution_count": 17,
     "metadata": {},
     "output_type": "execute_result"
    }
   ],
   "source": [
    "preferred_cities_df.isnull().sum()"
   ]
  },
  {
   "cell_type": "code",
   "execution_count": 18,
   "metadata": {},
   "outputs": [
    {
     "data": {
      "text/plain": [
       "City_ID       195\n",
       "City          195\n",
       "Country       192\n",
       "Date          195\n",
       "Lat           195\n",
       "Lng           195\n",
       "Max Temp      195\n",
       "Humidity      195\n",
       "Cloudiness    195\n",
       "Wind Speed    195\n",
       "dtype: int64"
      ]
     },
     "execution_count": 18,
     "metadata": {},
     "output_type": "execute_result"
    }
   ],
   "source": [
    "preferred_cities_df.notnull().sum()"
   ]
  },
  {
   "cell_type": "markdown",
   "metadata": {},
   "source": [
    "Drop rows that contain null values"
   ]
  },
  {
   "cell_type": "code",
   "execution_count": 19,
   "metadata": {},
   "outputs": [],
   "source": [
    "city_data_df.dropna(inplace=True)"
   ]
  },
  {
   "cell_type": "code",
   "execution_count": 20,
   "metadata": {},
   "outputs": [
    {
     "data": {
      "text/plain": [
       "City_ID       195\n",
       "City          195\n",
       "Country       192\n",
       "Date          195\n",
       "Lat           195\n",
       "Lng           195\n",
       "Max Temp      195\n",
       "Humidity      195\n",
       "Cloudiness    195\n",
       "Wind Speed    195\n",
       "dtype: int64"
      ]
     },
     "execution_count": 20,
     "metadata": {},
     "output_type": "execute_result"
    }
   ],
   "source": [
    "preferred_cities_df.count()"
   ]
  },
  {
   "cell_type": "markdown",
   "metadata": {},
   "source": [
    "# 6.5.4 Map Vacation Criteria"
   ]
  },
  {
   "cell_type": "markdown",
   "metadata": {},
   "source": [
    "Get Travel Destinations"
   ]
  },
  {
   "cell_type": "code",
   "execution_count": 21,
   "metadata": {},
   "outputs": [
    {
     "data": {
      "text/html": [
       "<div>\n",
       "<style scoped>\n",
       "    .dataframe tbody tr th:only-of-type {\n",
       "        vertical-align: middle;\n",
       "    }\n",
       "\n",
       "    .dataframe tbody tr th {\n",
       "        vertical-align: top;\n",
       "    }\n",
       "\n",
       "    .dataframe thead th {\n",
       "        text-align: right;\n",
       "    }\n",
       "</style>\n",
       "<table border=\"1\" class=\"dataframe\">\n",
       "  <thead>\n",
       "    <tr style=\"text-align: right;\">\n",
       "      <th></th>\n",
       "      <th>City</th>\n",
       "      <th>Country</th>\n",
       "      <th>Max Temp</th>\n",
       "      <th>Lat</th>\n",
       "      <th>Lng</th>\n",
       "      <th>Hotel Name</th>\n",
       "    </tr>\n",
       "  </thead>\n",
       "  <tbody>\n",
       "    <tr>\n",
       "      <th>4</th>\n",
       "      <td>Atuona</td>\n",
       "      <td>PF</td>\n",
       "      <td>80.28</td>\n",
       "      <td>-9.80</td>\n",
       "      <td>-139.03</td>\n",
       "      <td></td>\n",
       "    </tr>\n",
       "    <tr>\n",
       "      <th>5</th>\n",
       "      <td>Ravar</td>\n",
       "      <td>IR</td>\n",
       "      <td>89.94</td>\n",
       "      <td>31.27</td>\n",
       "      <td>56.81</td>\n",
       "      <td></td>\n",
       "    </tr>\n",
       "    <tr>\n",
       "      <th>8</th>\n",
       "      <td>Labuan</td>\n",
       "      <td>MY</td>\n",
       "      <td>82.40</td>\n",
       "      <td>5.28</td>\n",
       "      <td>115.24</td>\n",
       "      <td></td>\n",
       "    </tr>\n",
       "    <tr>\n",
       "      <th>9</th>\n",
       "      <td>Butaritari</td>\n",
       "      <td>KI</td>\n",
       "      <td>82.89</td>\n",
       "      <td>3.07</td>\n",
       "      <td>172.79</td>\n",
       "      <td></td>\n",
       "    </tr>\n",
       "    <tr>\n",
       "      <th>19</th>\n",
       "      <td>Ailigandi</td>\n",
       "      <td>PA</td>\n",
       "      <td>85.28</td>\n",
       "      <td>9.23</td>\n",
       "      <td>-78.02</td>\n",
       "      <td></td>\n",
       "    </tr>\n",
       "    <tr>\n",
       "      <th>...</th>\n",
       "      <td>...</td>\n",
       "      <td>...</td>\n",
       "      <td>...</td>\n",
       "      <td>...</td>\n",
       "      <td>...</td>\n",
       "      <td>...</td>\n",
       "    </tr>\n",
       "    <tr>\n",
       "      <th>561</th>\n",
       "      <td>Urucurituba</td>\n",
       "      <td>BR</td>\n",
       "      <td>83.34</td>\n",
       "      <td>-2.68</td>\n",
       "      <td>-57.67</td>\n",
       "      <td></td>\n",
       "    </tr>\n",
       "    <tr>\n",
       "      <th>564</th>\n",
       "      <td>Acapulco</td>\n",
       "      <td>MX</td>\n",
       "      <td>77.00</td>\n",
       "      <td>16.86</td>\n",
       "      <td>-99.89</td>\n",
       "      <td></td>\n",
       "    </tr>\n",
       "    <tr>\n",
       "      <th>565</th>\n",
       "      <td>Frontera</td>\n",
       "      <td>MX</td>\n",
       "      <td>86.00</td>\n",
       "      <td>26.93</td>\n",
       "      <td>-101.45</td>\n",
       "      <td></td>\n",
       "    </tr>\n",
       "    <tr>\n",
       "      <th>572</th>\n",
       "      <td>Torit</td>\n",
       "      <td>SS</td>\n",
       "      <td>86.97</td>\n",
       "      <td>4.41</td>\n",
       "      <td>32.57</td>\n",
       "      <td></td>\n",
       "    </tr>\n",
       "    <tr>\n",
       "      <th>573</th>\n",
       "      <td>Sibu</td>\n",
       "      <td>MY</td>\n",
       "      <td>84.20</td>\n",
       "      <td>2.30</td>\n",
       "      <td>111.82</td>\n",
       "      <td></td>\n",
       "    </tr>\n",
       "  </tbody>\n",
       "</table>\n",
       "<p>195 rows × 6 columns</p>\n",
       "</div>"
      ],
      "text/plain": [
       "            City Country  Max Temp    Lat     Lng Hotel Name\n",
       "4         Atuona      PF     80.28  -9.80 -139.03           \n",
       "5          Ravar      IR     89.94  31.27   56.81           \n",
       "8         Labuan      MY     82.40   5.28  115.24           \n",
       "9     Butaritari      KI     82.89   3.07  172.79           \n",
       "19     Ailigandi      PA     85.28   9.23  -78.02           \n",
       "..           ...     ...       ...    ...     ...        ...\n",
       "561  Urucurituba      BR     83.34  -2.68  -57.67           \n",
       "564     Acapulco      MX     77.00  16.86  -99.89           \n",
       "565     Frontera      MX     86.00  26.93 -101.45           \n",
       "572        Torit      SS     86.97   4.41   32.57           \n",
       "573         Sibu      MY     84.20   2.30  111.82           \n",
       "\n",
       "[195 rows x 6 columns]"
      ]
     },
     "execution_count": 21,
     "metadata": {},
     "output_type": "execute_result"
    }
   ],
   "source": [
    "# Create DataFrame called hotel_df to store hotel names along with city, country, max temp, and coordinates.\n",
    "hotel_df = preferred_cities_df[[\"City\", \"Country\", \"Max Temp\", \"Lat\", \"Lng\"]].copy()\n",
    "hotel_df[\"Hotel Name\"] = \"\"\n",
    "hotel_df"
   ]
  },
  {
   "cell_type": "markdown",
   "metadata": {},
   "source": [
    "Retrieve Hotels from a Nearby Search"
   ]
  },
  {
   "cell_type": "code",
   "execution_count": 22,
   "metadata": {},
   "outputs": [],
   "source": [
    "# Dependencies and Setup\n",
    "import requests\n",
    "import gmaps\n",
    "\n",
    "# Import API key\n",
    "from config import g_key"
   ]
  },
  {
   "cell_type": "markdown",
   "metadata": {},
   "source": [
    "Practice Using a Fixed Latitude and Longitude"
   ]
  },
  {
   "cell_type": "code",
   "execution_count": 23,
   "metadata": {},
   "outputs": [],
   "source": [
    "# Set the parameters to search for a hotel in Paris.\n",
    "params = {\n",
    "    \"radius\": 5000,\n",
    "    \"types\": \"lodging\",\n",
    "    \"key\": g_key,\n",
    "    \"location\": \"48.8566, 2.3522\"}\n",
    "# Use base URL to search for hotels in Paris.\n",
    "base_url = \"https://maps.googleapis.com/maps/api/place/nearbysearch/json\"\n",
    "# Make request and get the JSON data from the search.\n",
    "hotels = requests.get(base_url, params=params).json()"
   ]
  },
  {
   "cell_type": "code",
   "execution_count": 24,
   "metadata": {},
   "outputs": [
    {
     "data": {
      "text/plain": [
       "20"
      ]
     },
     "execution_count": 24,
     "metadata": {},
     "output_type": "execute_result"
    }
   ],
   "source": [
    "len(hotels[\"results\"])"
   ]
  },
  {
   "cell_type": "code",
   "execution_count": 25,
   "metadata": {},
   "outputs": [
    {
     "data": {
      "text/plain": [
       "{'html_attributions': [],\n",
       " 'next_page_token': 'CqQCHAEAAADjisfChYyoihlmf4imYYO4FS9rVcNH5d62HvLj24hnLlWDjRRzjQveQx7YC3kZ-43792PqP-E6JWticfs9FHHi4Cqj4Lqr5FUT0cVJIvGkY-vh74wjk95wKwieURLxDXsU1sKmsugNOKaXNT7YDndjUlJfGvoKYpvfG6stTjDtO6L2Qp-ud6X9QE9P_sItrPRDzSVdoKQA_kRfF5IMLtfUPlkINyqgGVx63Q3ShTtg0HWx5Kf01ngyldYkYIoXgiGfJ1RmIixTx6847LzIWn9wNQWLC0c_3KnPSaLdOSFfh2DSVYkosu54OQYEgei1sV6q7GsCDDfrk1peizTT1tbu_tv1mzIZARiaTrunNNfadK5YtsQpRrJvKSgqkOEEDhIQ9j8N5h2_X9BjNLvm-3pL9hoUIHXQDtWBQcqUcSUW5I3nbMzC_w8',\n",
       " 'results': [{'business_status': 'OPERATIONAL',\n",
       "   'geometry': {'location': {'lat': 48.8581126, 'lng': 2.3529277},\n",
       "    'viewport': {'northeast': {'lat': 48.8594393802915,\n",
       "      'lng': 2.354352980291502},\n",
       "     'southwest': {'lat': 48.8567414197085, 'lng': 2.351655019708498}}},\n",
       "   'icon': 'https://maps.gstatic.com/mapfiles/place_api/icons/lodging-71.png',\n",
       "   'id': '7fa47cb61d7345cecc3b802d0e04fcff2b3d5ecb',\n",
       "   'name': 'Hôtel Duo',\n",
       "   'opening_hours': {'open_now': True},\n",
       "   'photos': [{'height': 3840,\n",
       "     'html_attributions': ['<a href=\"https://maps.google.com/maps/contrib/107554201425443337224\">Hôtel Duo</a>'],\n",
       "     'photo_reference': 'CmRaAAAACMoPZUw15d1AkbHbkUXy2mTzZamdaRm9CWk5c8AFD-doMzycV7x6qREcV-yxL09rizUn3mIpY9UM5J0y2CCCEt4bHiQ7H1dmdTNkrCUSkmmqEcrMQz-fHNz6pKQ3_F9WEhBhFac4UpVMbKSl9AJ8BSbtGhQifE7Xsgmc0MPHhU97qlSdSIQ-aQ',\n",
       "     'width': 5760}],\n",
       "   'place_id': 'ChIJWU9CqB1u5kcR5P1F2SMoJmc',\n",
       "   'plus_code': {'compound_code': 'V953+65 Paris, France',\n",
       "    'global_code': '8FW4V953+65'},\n",
       "   'rating': 4.2,\n",
       "   'reference': 'ChIJWU9CqB1u5kcR5P1F2SMoJmc',\n",
       "   'scope': 'GOOGLE',\n",
       "   'types': ['night_club',\n",
       "    'spa',\n",
       "    'lodging',\n",
       "    'bar',\n",
       "    'gym',\n",
       "    'health',\n",
       "    'point_of_interest',\n",
       "    'establishment'],\n",
       "   'user_ratings_total': 268,\n",
       "   'vicinity': '11 Rue du Temple, Paris'},\n",
       "  {'business_status': 'OPERATIONAL',\n",
       "   'geometry': {'location': {'lat': 48.8582861, 'lng': 2.3464944},\n",
       "    'viewport': {'northeast': {'lat': 48.8595495802915,\n",
       "      'lng': 2.347780980291502},\n",
       "     'southwest': {'lat': 48.8568516197085, 'lng': 2.345083019708498}}},\n",
       "   'icon': 'https://maps.gstatic.com/mapfiles/place_api/icons/lodging-71.png',\n",
       "   'id': '4d2e3fa9d12bf9feb685e628eaa4da9b180956a9',\n",
       "   'name': 'Hôtel Britannique - Paris Louvre',\n",
       "   'opening_hours': {'open_now': True},\n",
       "   'photos': [{'height': 1426,\n",
       "     'html_attributions': ['<a href=\"https://maps.google.com/maps/contrib/108984000175492464929\">Hôtel Britannique - Paris Louvre</a>'],\n",
       "     'photo_reference': 'CmRaAAAAUrHj3mzQ6t1Y6IpfOU_I-f5bxhs9cLqvzE48Bkh3eVZLKqpn1v3xjhjZdxyAe77tzIaaeC23tBEuf_oD5pp4Q_G0XQJRMpevPF6ctiddeq244qB8L3sXXc_EdnorcCbnEhBEYJrTDt2cos1xnL3-DXRLGhRfrv0fpmaI5UYucfHXdQvhoVp6lg',\n",
       "     'width': 1476}],\n",
       "   'place_id': 'ChIJ-4Siox9u5kcRm9vM6DcMXyU',\n",
       "   'plus_code': {'compound_code': 'V85W+8H Paris, France',\n",
       "    'global_code': '8FW4V85W+8H'},\n",
       "   'rating': 4.6,\n",
       "   'reference': 'ChIJ-4Siox9u5kcRm9vM6DcMXyU',\n",
       "   'scope': 'GOOGLE',\n",
       "   'types': ['lodging', 'point_of_interest', 'establishment'],\n",
       "   'user_ratings_total': 246,\n",
       "   'vicinity': '20 Avenue Victoria, Paris'},\n",
       "  {'business_status': 'OPERATIONAL',\n",
       "   'geometry': {'location': {'lat': 48.8606655, 'lng': 2.3469293},\n",
       "    'viewport': {'northeast': {'lat': 48.8617681302915,\n",
       "      'lng': 2.348040180291502},\n",
       "     'southwest': {'lat': 48.8590701697085, 'lng': 2.345342219708498}}},\n",
       "   'icon': 'https://maps.gstatic.com/mapfiles/place_api/icons/lodging-71.png',\n",
       "   'id': '9f68a76d7e95a1f94ca131a0511bfe5ffa306818',\n",
       "   'name': 'Citadines Les Halles Paris (Apart Hotel Paris)',\n",
       "   'opening_hours': {'open_now': True},\n",
       "   'photos': [{'height': 496,\n",
       "     'html_attributions': ['<a href=\"https://maps.google.com/maps/contrib/102565262508115704337\">Citadines Les Halles Paris (Apart Hotel Paris)</a>'],\n",
       "     'photo_reference': 'CmRaAAAAo5A6XeB1xAh_PmGAMowqRLyMfX_toUxWT6fH0ItX_v7SKzz_pzg0hLy1ZRtq80wKyiOZmGjaTukap-m6EMCvmorZxQkOki9bUg7HP8LJEOX_QfOBGMm8uNQxf0GQ1yQOEhDRP5JF-BozBPQA6OjjQp02GhRRGeNJjnrMOlLeHYnHknYpiT-M3g',\n",
       "     'width': 745}],\n",
       "   'place_id': 'ChIJQ_QDrxhu5kcRJzNxLLEOSfU',\n",
       "   'plus_code': {'compound_code': 'V86W+7Q Paris, France',\n",
       "    'global_code': '8FW4V86W+7Q'},\n",
       "   'rating': 4.1,\n",
       "   'reference': 'ChIJQ_QDrxhu5kcRJzNxLLEOSfU',\n",
       "   'scope': 'GOOGLE',\n",
       "   'types': ['lodging', 'point_of_interest', 'establishment'],\n",
       "   'user_ratings_total': 789,\n",
       "   'vicinity': '4 Rue des Innocents, Paris'},\n",
       "  {'business_status': 'OPERATIONAL',\n",
       "   'geometry': {'location': {'lat': 48.8607658, 'lng': 2.3465318},\n",
       "    'viewport': {'northeast': {'lat': 48.8620011802915,\n",
       "      'lng': 2.347699630291502},\n",
       "     'southwest': {'lat': 48.8593032197085, 'lng': 2.345001669708498}}},\n",
       "   'icon': 'https://maps.gstatic.com/mapfiles/place_api/icons/lodging-71.png',\n",
       "   'id': 'd0fde78ef5688caa69780be22af2ec83d4adfd32',\n",
       "   'name': 'Novotel Paris Les Halles',\n",
       "   'opening_hours': {'open_now': True},\n",
       "   'photos': [{'height': 2000,\n",
       "     'html_attributions': ['<a href=\"https://maps.google.com/maps/contrib/111815616573299411056\">Novotel Paris Les Halles</a>'],\n",
       "     'photo_reference': 'CmRaAAAAwYDPhMfBsqccwbE_tqCLJX3NX2ln2tTsbA7bSS9ODAoViU0Jbos98Ebl_wafq5jE7SdRzT2qKpl6PIeEP7bYsr35fWiynjx4ICsR8fkTj4qUFWSJ8he_b1jDe0xtpRRWEhC2CJwhXca3UFLqy51ToRtpGhSPKjk96U71msTNOGaF6fq8dv77OQ',\n",
       "     'width': 3000}],\n",
       "   'place_id': 'ChIJGW2pNx9u5kcRI3oyL8NG5BQ',\n",
       "   'plus_code': {'compound_code': 'V86W+8J Paris, France',\n",
       "    'global_code': '8FW4V86W+8J'},\n",
       "   'rating': 4.4,\n",
       "   'reference': 'ChIJGW2pNx9u5kcRI3oyL8NG5BQ',\n",
       "   'scope': 'GOOGLE',\n",
       "   'types': ['lodging', 'point_of_interest', 'establishment'],\n",
       "   'user_ratings_total': 2010,\n",
       "   'vicinity': '8 Place Marguerite de Navarre, Paris'},\n",
       "  {'business_status': 'OPERATIONAL',\n",
       "   'geometry': {'location': {'lat': 48.86034799999999, 'lng': 2.344054},\n",
       "    'viewport': {'northeast': {'lat': 48.8616503302915,\n",
       "      'lng': 2.345521080291502},\n",
       "     'southwest': {'lat': 48.8589523697085, 'lng': 2.342823119708498}}},\n",
       "   'icon': 'https://maps.gstatic.com/mapfiles/place_api/icons/lodging-71.png',\n",
       "   'id': '071875f44126b9c8284f24b598fdfce0ef2b15a8',\n",
       "   'name': 'Hôtel Ducs de Bourgogne',\n",
       "   'opening_hours': {'open_now': True},\n",
       "   'photos': [{'height': 1842,\n",
       "     'html_attributions': ['<a href=\"https://maps.google.com/maps/contrib/101411638353598558320\">Best Western Premier Ducs de Bourgogne</a>'],\n",
       "     'photo_reference': 'CmRaAAAAFS6D7dvK-u7ygpqD0mFf2Tu77ad4xrfsPHAeImH8SI7wH9kg7Vuq1g_luVy08uP5yOe7PnR-LqOr3fzgt6sI7dV2mS8DrVF6_IQIZ5ptKTtC9rk3TRLrhQT2NaNNtxRdEhBioR5c_Yyd368ygcrK5rdQGhSoE5pi8CEtpgLNCiWLMDgRvJXUfA',\n",
       "     'width': 2880}],\n",
       "   'place_id': 'ChIJifTG5yFu5kcRdnisbwxnAx4',\n",
       "   'plus_code': {'compound_code': 'V86V+4J Paris, France',\n",
       "    'global_code': '8FW4V86V+4J'},\n",
       "   'rating': 4.5,\n",
       "   'reference': 'ChIJifTG5yFu5kcRdnisbwxnAx4',\n",
       "   'scope': 'GOOGLE',\n",
       "   'types': ['lodging', 'point_of_interest', 'establishment'],\n",
       "   'user_ratings_total': 264,\n",
       "   'vicinity': '19 Rue du Pont Neuf, Paris'},\n",
       "  {'business_status': 'OPERATIONAL',\n",
       "   'geometry': {'location': {'lat': 48.8555091, 'lng': 2.3408736},\n",
       "    'viewport': {'northeast': {'lat': 48.8569042302915,\n",
       "      'lng': 2.342317580291502},\n",
       "     'southwest': {'lat': 48.8542062697085, 'lng': 2.339619619708499}}},\n",
       "   'icon': 'https://maps.gstatic.com/mapfiles/place_api/icons/lodging-71.png',\n",
       "   'id': 'da46237a58939495edf652bdf976bd44df477f05',\n",
       "   'name': 'Citadines Saint-Germain-des-Prés Paris',\n",
       "   'opening_hours': {'open_now': True},\n",
       "   'photos': [{'height': 3024,\n",
       "     'html_attributions': ['<a href=\"https://maps.google.com/maps/contrib/116649065792056265685\">Gilsun LEE</a>'],\n",
       "     'photo_reference': 'CmRaAAAAs5806_BNXmYox8gxDKtDL3cluT9m6xe60SSp7HtYO6fy0Lku0pYEa6IT7FXaJ1dSvz5cFVPU-IxR9zJAPU5ZpPF-6iaXC39P-Yx7PWjr1J4_0QXfgI4cd6D9Sq5mNjAXEhBF6JcNtERlojQOo3Qn7QwxGhQTa6en4Rp2FOQftAWWPKt1ec1j8g',\n",
       "     'width': 4032}],\n",
       "   'place_id': 'ChIJo5pYcN9x5kcRERXdocMgqmE',\n",
       "   'plus_code': {'compound_code': 'V84R+68 Paris, France',\n",
       "    'global_code': '8FW4V84R+68'},\n",
       "   'rating': 4.3,\n",
       "   'reference': 'ChIJo5pYcN9x5kcRERXdocMgqmE',\n",
       "   'scope': 'GOOGLE',\n",
       "   'types': ['lodging', 'point_of_interest', 'establishment'],\n",
       "   'user_ratings_total': 639,\n",
       "   'vicinity': '53 ter Quai des Grands Augustins, Paris'},\n",
       "  {'business_status': 'OPERATIONAL',\n",
       "   'geometry': {'location': {'lat': 48.86634659999999, 'lng': 2.36064},\n",
       "    'viewport': {'northeast': {'lat': 48.8677623302915,\n",
       "      'lng': 2.361952180291502},\n",
       "     'southwest': {'lat': 48.86506436970851, 'lng': 2.359254219708498}}},\n",
       "   'icon': 'https://maps.gstatic.com/mapfiles/place_api/icons/lodging-71.png',\n",
       "   'id': '87ab2d184ee12f6be846d60470ed800629c99521',\n",
       "   'name': 'Paris France Hôtel',\n",
       "   'opening_hours': {'open_now': True},\n",
       "   'photos': [{'height': 2673,\n",
       "     'html_attributions': ['<a href=\"https://maps.google.com/maps/contrib/102332962500946068613\">Paris France Hôtel</a>'],\n",
       "     'photo_reference': 'CmRaAAAAert3yxcsYlK7ARRBiAJzJjKKueH1KP3XTcoJ70v7Q8G4nFQMEECXSpe9bz6pWc-hDxsUVh2mZB_DBx9ljrLjXTVOJgKQj3pDg8NxF9zf8wGYC4_kgpPZ6Qlnu_zaYFCPEhDi2kNlS9uzbHF9yktZZoKSGhSUgfZ8XoK5bdsBoT-0K-tQmTgbow',\n",
       "     'width': 3463}],\n",
       "   'place_id': 'ChIJhXWLZg9u5kcRDVyqoZYgcmg',\n",
       "   'plus_code': {'compound_code': 'V986+G7 Paris, France',\n",
       "    'global_code': '8FW4V986+G7'},\n",
       "   'rating': 4.3,\n",
       "   'reference': 'ChIJhXWLZg9u5kcRDVyqoZYgcmg',\n",
       "   'scope': 'GOOGLE',\n",
       "   'types': ['lodging', 'point_of_interest', 'establishment'],\n",
       "   'user_ratings_total': 367,\n",
       "   'vicinity': '72 Rue de Turbigo, Paris'},\n",
       "  {'business_status': 'OPERATIONAL',\n",
       "   'geometry': {'location': {'lat': 48.8549629, 'lng': 2.3331998},\n",
       "    'viewport': {'northeast': {'lat': 48.8563231802915,\n",
       "      'lng': 2.334450380291502},\n",
       "     'southwest': {'lat': 48.8536252197085, 'lng': 2.331752419708498}}},\n",
       "   'icon': 'https://maps.gstatic.com/mapfiles/place_api/icons/lodging-71.png',\n",
       "   'id': 'd466793620469a720b439cf769a6f4c28217ef88',\n",
       "   'name': 'Hôtel Bel Ami',\n",
       "   'opening_hours': {'open_now': True},\n",
       "   'photos': [{'height': 4377,\n",
       "     'html_attributions': ['<a href=\"https://maps.google.com/maps/contrib/111426311500153571368\">Hôtel Bel Ami</a>'],\n",
       "     'photo_reference': 'CmRaAAAAbFj2nyxOh-QA2I1y-6JZsuF9tmRlDhqz5koJMKr2uD9NuBtqdcoCO9vSQAMEwAQ0wtjReBnyrRDcmZ7CY2zRjxyoxcPkx0hfBUfwp-16ycYyCvbRCETtUy-sAs3yO8wbEhCfuE86n-dh0Ra1YNL0xEGoGhQAWZQXT68QUHLKV8dhCEo-2f55JQ',\n",
       "     'width': 6566}],\n",
       "   'place_id': 'ChIJj0jPiddx5kcRnYv-p3-vfCA',\n",
       "   'plus_code': {'compound_code': 'V83M+X7 Paris, France',\n",
       "    'global_code': '8FW4V83M+X7'},\n",
       "   'rating': 4.6,\n",
       "   'reference': 'ChIJj0jPiddx5kcRnYv-p3-vfCA',\n",
       "   'scope': 'GOOGLE',\n",
       "   'types': ['spa',\n",
       "    'lodging',\n",
       "    'bar',\n",
       "    'restaurant',\n",
       "    'food',\n",
       "    'point_of_interest',\n",
       "    'establishment'],\n",
       "   'user_ratings_total': 448,\n",
       "   'vicinity': '7 Rue Saint-Benoît, Paris'},\n",
       "  {'business_status': 'OPERATIONAL',\n",
       "   'geometry': {'location': {'lat': 48.86386539999999, 'lng': 2.3325488},\n",
       "    'viewport': {'northeast': {'lat': 48.8650759802915,\n",
       "      'lng': 2.333775730291502},\n",
       "     'southwest': {'lat': 48.8623780197085, 'lng': 2.331077769708498}}},\n",
       "   'icon': 'https://maps.gstatic.com/mapfiles/place_api/icons/lodging-71.png',\n",
       "   'id': '20dd8ae8d6ad9bbbe4ea9c6caf623fa071be187f',\n",
       "   'name': 'Hotel Regina Louvre',\n",
       "   'opening_hours': {'open_now': True},\n",
       "   'photos': [{'height': 2828,\n",
       "     'html_attributions': ['<a href=\"https://maps.google.com/maps/contrib/109066439891801774697\">Hôtel Regina Louvre</a>'],\n",
       "     'photo_reference': 'CmRaAAAAoB34WpfHIaKFKCiYQws4uCDaGuy-qPFbyLui-0KISSF2YzzxR084hjLtL93NZjBA8SrYYW_WY27klK4iBrjb3k4TZFrstavtcPE19zDYzbnazuPtYZsoB29OpDaDlTjAEhBLvqygVqhtEd0bxYHQc67xGhT2pqB72pC4qQxdn4VY5mq9Ppd5IQ',\n",
       "     'width': 4242}],\n",
       "   'place_id': 'ChIJP_-HCS9u5kcRsj9b1x7Pl8w',\n",
       "   'plus_code': {'compound_code': 'V87M+G2 Paris, France',\n",
       "    'global_code': '8FW4V87M+G2'},\n",
       "   'rating': 4.5,\n",
       "   'reference': 'ChIJP_-HCS9u5kcRsj9b1x7Pl8w',\n",
       "   'scope': 'GOOGLE',\n",
       "   'types': ['lodging',\n",
       "    'bar',\n",
       "    'restaurant',\n",
       "    'food',\n",
       "    'point_of_interest',\n",
       "    'establishment'],\n",
       "   'user_ratings_total': 494,\n",
       "   'vicinity': '2 Place des Pyramides, Paris'},\n",
       "  {'business_status': 'OPERATIONAL',\n",
       "   'geometry': {'location': {'lat': 48.8475464, 'lng': 2.3718722},\n",
       "    'viewport': {'northeast': {'lat': 48.8488880302915,\n",
       "      'lng': 2.373119680291502},\n",
       "     'southwest': {'lat': 48.8461900697085, 'lng': 2.370421719708498}}},\n",
       "   'icon': 'https://maps.gstatic.com/mapfiles/place_api/icons/lodging-71.png',\n",
       "   'id': 'dd8abb1bc4b1337fc3bd3f26e92d36c9a31de2fd',\n",
       "   'name': 'Hôtel De France Gare de Lyon Bastille',\n",
       "   'photos': [{'height': 787,\n",
       "     'html_attributions': ['<a href=\"https://maps.google.com/maps/contrib/117462031751048846575\">Hôtel De France Gare de Lyon Bastille</a>'],\n",
       "     'photo_reference': 'CmRaAAAABpsCtO6uMGF7uRohenNxi6r3nLHcLl7MBug-egfJoaPriYifnh2IDIVABJQGUAIV97StdkopIhArolY2Ja2qp3N9glzqiXZQsQXWQAG_OWwV8IATJNh4vrIpcyg7-sAqEhBJCm9dQ7DjYO_hDwPm0pkhGhRmrY3juUbTHbaGnDO4kVVwIsQFjQ',\n",
       "     'width': 1181}],\n",
       "   'place_id': 'ChIJz6DBYgNy5kcRhOu1LhDIECM',\n",
       "   'plus_code': {'compound_code': 'R9XC+2P Paris, France',\n",
       "    'global_code': '8FW4R9XC+2P'},\n",
       "   'rating': 3.3,\n",
       "   'reference': 'ChIJz6DBYgNy5kcRhOu1LhDIECM',\n",
       "   'scope': 'GOOGLE',\n",
       "   'types': ['lodging', 'point_of_interest', 'establishment'],\n",
       "   'user_ratings_total': 375,\n",
       "   'vicinity': '12 Rue de Lyon, Paris'},\n",
       "  {'business_status': 'OPERATIONAL',\n",
       "   'geometry': {'location': {'lat': 48.8717386, 'lng': 2.3447052},\n",
       "    'viewport': {'northeast': {'lat': 48.8731394302915,\n",
       "      'lng': 2.346067130291502},\n",
       "     'southwest': {'lat': 48.8704414697085, 'lng': 2.343369169708498}}},\n",
       "   'icon': 'https://maps.gstatic.com/mapfiles/place_api/icons/lodging-71.png',\n",
       "   'id': '78d0f620a6cdf990371302f25505f3916839f53a',\n",
       "   'name': 'Hôtel Corona Opéra',\n",
       "   'photos': [{'height': 3024,\n",
       "     'html_attributions': ['<a href=\"https://maps.google.com/maps/contrib/105311226083684825186\">福山慎一</a>'],\n",
       "     'photo_reference': 'CmRaAAAA_iB5kFyPiyE64lLHE5uDIRtbPrDLsg_tpSsr0FPjfwCqJ60j-LBIr-_bsGIoJyXTThflnVHgF8dfQ4jhdrOyLLKPqalz23EZiLT35w8pKALqpQPYCn1kxqvVeJr3LedbEhCVQyWdESgbQo7YKY4Y-aaLGhQcnyjD39txTqwWlgnhfLQladE5UA',\n",
       "     'width': 4032}],\n",
       "   'place_id': 'ChIJ8e3Qcj5u5kcR2MIGwNxustk',\n",
       "   'plus_code': {'compound_code': 'V8CV+MV Paris, France',\n",
       "    'global_code': '8FW4V8CV+MV'},\n",
       "   'rating': 4,\n",
       "   'reference': 'ChIJ8e3Qcj5u5kcR2MIGwNxustk',\n",
       "   'scope': 'GOOGLE',\n",
       "   'types': ['lodging', 'point_of_interest', 'establishment'],\n",
       "   'user_ratings_total': 303,\n",
       "   'vicinity': '8 Cité Bergère, Paris'},\n",
       "  {'business_status': 'OPERATIONAL',\n",
       "   'geometry': {'location': {'lat': 48.8423474, 'lng': 2.3632229},\n",
       "    'viewport': {'northeast': {'lat': 48.8436522302915,\n",
       "      'lng': 2.364706330291502},\n",
       "     'southwest': {'lat': 48.8409542697085, 'lng': 2.362008369708498}}},\n",
       "   'icon': 'https://maps.gstatic.com/mapfiles/place_api/icons/lodging-71.png',\n",
       "   'id': 'c2c8e3f55bda0fd2bec95cd85db83c756bfebe2c',\n",
       "   'name': 'Hôtel Libertel Austerlitz Jardin des Plantes',\n",
       "   'opening_hours': {'open_now': True},\n",
       "   'photos': [{'height': 683,\n",
       "     'html_attributions': ['<a href=\"https://maps.google.com/maps/contrib/113748802076686483057\">Hôtel Libertel Austerlitz Jardin des Plantes</a>'],\n",
       "     'photo_reference': 'CmRaAAAAA_4vgX9ozZZCEa_uL8VnegybsgoSWVMsYYIt-JMkvEdqrNbfZlXKi28XHlFvLBA-iTXtPxiO5OjYCEBJoqWPHMsf_VjKFf9JSo5H5L8z-vwbOL1NAp5RAIZKvyDXCZ2iEhA0iqpffp-ubA-ZJnU0aWAfGhT8Dg5FZVc4IRrFEp0_-MGNF4eCWw',\n",
       "     'width': 1024}],\n",
       "   'place_id': 'ChIJe-udXPZx5kcRKURHNFv5BSw',\n",
       "   'plus_code': {'compound_code': 'R9R7+W7 Paris, France',\n",
       "    'global_code': '8FW4R9R7+W7'},\n",
       "   'rating': 3.9,\n",
       "   'reference': 'ChIJe-udXPZx5kcRKURHNFv5BSw',\n",
       "   'scope': 'GOOGLE',\n",
       "   'types': ['lodging', 'point_of_interest', 'establishment'],\n",
       "   'user_ratings_total': 416,\n",
       "   'vicinity': \"12 Boulevard de l'Hôpital, Paris\"},\n",
       "  {'business_status': 'OPERATIONAL',\n",
       "   'geometry': {'location': {'lat': 48.864294, 'lng': 2.3307997},\n",
       "    'viewport': {'northeast': {'lat': 48.8655772302915,\n",
       "      'lng': 2.332153880291502},\n",
       "     'southwest': {'lat': 48.8628792697085, 'lng': 2.329455919708498}}},\n",
       "   'icon': 'https://maps.gstatic.com/mapfiles/place_api/icons/lodging-71.png',\n",
       "   'id': '50797fba20cc1e735c57820607b18b04abf162b9',\n",
       "   'name': 'Saint James Albany Paris Hôtel Spa',\n",
       "   'photos': [{'height': 650,\n",
       "     'html_attributions': ['<a href=\"https://maps.google.com/maps/contrib/108570400659068256718\">Saint James Albany Paris Hôtel Spa</a>'],\n",
       "     'photo_reference': 'CmRaAAAAPavsla9sGeWgGvDBxX0fDjUbF9UU4g0ZflN2sVsIbSBaM9dt31WQs5L9wxg8bzeete-7NVKBev8CNIix7eaaRSx2gQX-Pmz2zdZofW_4dmPMnrRQj0B1q6Erd-6hKgYqEhD7XKyVq9To2ZeJaUpj0L1IGhQMk15wQkFVqA2_EHTB893jhcANAA',\n",
       "     'width': 802}],\n",
       "   'place_id': 'ChIJ8znTVS5u5kcREq8TmzOICFs',\n",
       "   'plus_code': {'compound_code': 'V87J+P8 Paris, France',\n",
       "    'global_code': '8FW4V87J+P8'},\n",
       "   'rating': 4,\n",
       "   'reference': 'ChIJ8znTVS5u5kcREq8TmzOICFs',\n",
       "   'scope': 'GOOGLE',\n",
       "   'types': ['spa',\n",
       "    'lodging',\n",
       "    'bar',\n",
       "    'restaurant',\n",
       "    'food',\n",
       "    'point_of_interest',\n",
       "    'establishment'],\n",
       "   'user_ratings_total': 1070,\n",
       "   'vicinity': '202 Rue de Rivoli, Paris'},\n",
       "  {'business_status': 'OPERATIONAL',\n",
       "   'geometry': {'location': {'lat': 48.87110329999999, 'lng': 2.3389728},\n",
       "    'viewport': {'northeast': {'lat': 48.87241758029149,\n",
       "      'lng': 2.340357630291502},\n",
       "     'southwest': {'lat': 48.8697196197085, 'lng': 2.337659669708498}}},\n",
       "   'icon': 'https://maps.gstatic.com/mapfiles/place_api/icons/lodging-71.png',\n",
       "   'id': 'ef15575a5c2adf57431313a0af490a78350630a5',\n",
       "   'name': 'Hôtel Icône',\n",
       "   'opening_hours': {'open_now': True},\n",
       "   'photos': [{'height': 1066,\n",
       "     'html_attributions': ['<a href=\"https://maps.google.com/maps/contrib/108137830440312077288\">Hôtel Icône</a>'],\n",
       "     'photo_reference': 'CmRaAAAAehl3Mj2pERM8To2i9hqqN067fvVYIfhFww5RKU3FVud0R8uEsdwlDpaCHfk7g3mbkX1W_mVUNDE7e57ssETtJssi4aF-rGso4vSmbeYgpy_KOhAIHkq-ClXHArJN5jQHEhCbHEe_B7M3u_0gLZu7HMYvGhQ9QCcnqk88mBwJhJat3c77mpFz6g',\n",
       "     'width': 1600}],\n",
       "   'place_id': 'ChIJpQvq5Dtu5kcR0COam2f7v_I',\n",
       "   'plus_code': {'compound_code': 'V8CQ+CH Paris, France',\n",
       "    'global_code': '8FW4V8CQ+CH'},\n",
       "   'rating': 3.7,\n",
       "   'reference': 'ChIJpQvq5Dtu5kcR0COam2f7v_I',\n",
       "   'scope': 'GOOGLE',\n",
       "   'types': ['lodging', 'point_of_interest', 'establishment'],\n",
       "   'user_ratings_total': 134,\n",
       "   'vicinity': \"4 Rue d'Amboise, Paris\"},\n",
       "  {'business_status': 'OPERATIONAL',\n",
       "   'geometry': {'location': {'lat': 48.86038899999999, 'lng': 2.323112},\n",
       "    'viewport': {'northeast': {'lat': 48.8617804302915,\n",
       "      'lng': 2.324489280291502},\n",
       "     'southwest': {'lat': 48.8590824697085, 'lng': 2.321791319708499}}},\n",
       "   'icon': 'https://maps.gstatic.com/mapfiles/place_api/icons/lodging-71.png',\n",
       "   'id': '7f368d30dd657e11d235029a91f97fb176c9bc9a',\n",
       "   'name': \"Hôtel 4 étoiles d'Orsay Paris 7ème - Esprit de France\",\n",
       "   'opening_hours': {'open_now': True},\n",
       "   'photos': [{'height': 3840,\n",
       "     'html_attributions': ['<a href=\"https://maps.google.com/maps/contrib/115556676131195822021\">Hôtel 4 étoiles d&#39;Orsay Paris 7ème - Esprit de France</a>'],\n",
       "     'photo_reference': 'CmRaAAAAngTT130YOuhAEKLEOVqP_4qG2TplMOjrqzalGOkk8-jbTCWq1Eh1_M6wZdoX_KNNZTKFBpPAD0NRpLW8z85aCnZnmjBXlhLEoJVHkGS8j1hGZeUr8a8pccuIu9yexqZ1EhD-wmVT6lfM3hOxVGHb_iARGhTlcElGy-smEniOW16FO-vNQ7rX6g',\n",
       "     'width': 5760}],\n",
       "   'place_id': 'ChIJu39_OCtu5kcRWVQ7SFa0J-k',\n",
       "   'plus_code': {'compound_code': 'V86F+56 Paris, France',\n",
       "    'global_code': '8FW4V86F+56'},\n",
       "   'rating': 4.6,\n",
       "   'reference': 'ChIJu39_OCtu5kcRWVQ7SFa0J-k',\n",
       "   'scope': 'GOOGLE',\n",
       "   'types': ['lodging', 'point_of_interest', 'establishment'],\n",
       "   'user_ratings_total': 207,\n",
       "   'vicinity': '93 Rue de Lille, Paris'},\n",
       "  {'business_status': 'OPERATIONAL',\n",
       "   'geometry': {'location': {'lat': 48.8661363, 'lng': 2.3260648},\n",
       "    'viewport': {'northeast': {'lat': 48.8674534302915,\n",
       "      'lng': 2.327513280291502},\n",
       "     'southwest': {'lat': 48.8647554697085, 'lng': 2.324815319708498}}},\n",
       "   'icon': 'https://maps.gstatic.com/mapfiles/place_api/icons/lodging-71.png',\n",
       "   'id': '3706e8da44cbce856612cc5e666bd4e25076a0d8',\n",
       "   'name': 'Hôtel Mayfair Paris',\n",
       "   'opening_hours': {'open_now': True},\n",
       "   'photos': [{'height': 1365,\n",
       "     'html_attributions': ['<a href=\"https://maps.google.com/maps/contrib/113789389085635834164\">Hôtel Mayfair Paris</a>'],\n",
       "     'photo_reference': 'CmRaAAAAUZLQwPXwMEeIK59_RAjxcWioyEvEI5041fpP-m-dSqoJweIE6diLw94k0uY9UOMRbxFG-UR0kpHZ2FAFKRcs9nNLhurrtXfOvBfYZZtFRIAKwZ1Zz_yaHkWVNwXdjiu1EhDxICqCsv0dhuYSMdE-hmFcGhTv_BJM6IitHKPeQJUaFyDce4GJDQ',\n",
       "     'width': 2048}],\n",
       "   'place_id': 'ChIJTXVIhS1u5kcRlm9-RG0srQs',\n",
       "   'plus_code': {'compound_code': 'V88G+FC Paris, France',\n",
       "    'global_code': '8FW4V88G+FC'},\n",
       "   'rating': 4.2,\n",
       "   'reference': 'ChIJTXVIhS1u5kcRlm9-RG0srQs',\n",
       "   'scope': 'GOOGLE',\n",
       "   'types': ['lodging', 'point_of_interest', 'establishment'],\n",
       "   'user_ratings_total': 246,\n",
       "   'vicinity': '3 Rue Rouget de Lisle, Paris'},\n",
       "  {'business_status': 'OPERATIONAL',\n",
       "   'geometry': {'location': {'lat': 48.8758937, 'lng': 2.3591167},\n",
       "    'viewport': {'northeast': {'lat': 48.8772989802915,\n",
       "      'lng': 2.360423530291502},\n",
       "     'southwest': {'lat': 48.8746010197085, 'lng': 2.357725569708498}}},\n",
       "   'icon': 'https://maps.gstatic.com/mapfiles/place_api/icons/lodging-71.png',\n",
       "   'id': '243057f371f2061f228c750901650cd7fb66d5e3',\n",
       "   'name': \"Holiday Inn Paris - Gare de l'Est\",\n",
       "   'opening_hours': {'open_now': True},\n",
       "   'photos': [{'height': 1366,\n",
       "     'html_attributions': ['<a href=\"https://maps.google.com/maps/contrib/102027969916801631519\">Holiday Inn Paris - Gare de l&#39;Est</a>'],\n",
       "     'photo_reference': 'CmRaAAAA-ICh_ij8KG98XbBW7VSoerdcnzdv8hqhJWqrDedAZA7mK6CuuIHTTJzvceoc8A8TzVlZl90SI91bNdMhO6CYr-CPvGGli-nVFssrUSQsBlFI8slOaxI4ts4J74CpaxjcEhBoi7ZffQc0expiA8zUMh3VGhQ1826Yiq4OiPeBsYUhw4xcNyctxg',\n",
       "     'width': 2048}],\n",
       "   'place_id': 'ChIJwUHJSg1u5kcRhNqw_oQNeKI',\n",
       "   'plus_code': {'compound_code': 'V9G5+9J Paris, France',\n",
       "    'global_code': '8FW4V9G5+9J'},\n",
       "   'rating': 3.8,\n",
       "   'reference': 'ChIJwUHJSg1u5kcRhNqw_oQNeKI',\n",
       "   'scope': 'GOOGLE',\n",
       "   'types': ['lodging', 'point_of_interest', 'establishment'],\n",
       "   'user_ratings_total': 1524,\n",
       "   'vicinity': '45 Rue du 8 Mai 1945 5, Paris'},\n",
       "  {'business_status': 'OPERATIONAL',\n",
       "   'geometry': {'location': {'lat': 48.8722237, 'lng': 2.3333825},\n",
       "    'viewport': {'northeast': {'lat': 48.8734799302915,\n",
       "      'lng': 2.334607880291502},\n",
       "     'southwest': {'lat': 48.8707819697085, 'lng': 2.331909919708498}}},\n",
       "   'icon': 'https://maps.gstatic.com/mapfiles/place_api/icons/lodging-71.png',\n",
       "   'id': 'f5498c1ca2d603ee13df8183a714828bca6cdd18',\n",
       "   'name': 'W Paris Opéra',\n",
       "   'opening_hours': {'open_now': True},\n",
       "   'photos': [{'height': 1366,\n",
       "     'html_attributions': ['<a href=\"https://maps.google.com/maps/contrib/102893350184547703500\">W Paris - Opéra</a>'],\n",
       "     'photo_reference': 'CmRaAAAAPYEUvM_pB0aEPUjByTkMIzk9iz3K9u_QFcSYh1m1EpTR7ttMt8Lqv3kPxMmoNJfn7t9uavQUTfafpVD9LpMP_ZpeWdsI7oajifdYJdbETykbdUOhRsaWft5eBHXJ0yvdEhBiIL7qKKe-012OifdkTcbqGhQqQsL9f-IlQSaFDKW7EREylOVaqA',\n",
       "     'width': 2048}],\n",
       "   'place_id': 'ChIJiVMcgTRu5kcRbXfOviG7AqI',\n",
       "   'plus_code': {'compound_code': 'V8CM+V9 Paris, France',\n",
       "    'global_code': '8FW4V8CM+V9'},\n",
       "   'rating': 4.2,\n",
       "   'reference': 'ChIJiVMcgTRu5kcRbXfOviG7AqI',\n",
       "   'scope': 'GOOGLE',\n",
       "   'types': ['lodging', 'point_of_interest', 'establishment'],\n",
       "   'user_ratings_total': 494,\n",
       "   'vicinity': '4 Rue Meyerbeer, Paris'},\n",
       "  {'business_status': 'OPERATIONAL',\n",
       "   'geometry': {'location': {'lat': 48.8708361, 'lng': 2.3307253},\n",
       "    'viewport': {'northeast': {'lat': 48.8722390802915,\n",
       "      'lng': 2.331806380291502},\n",
       "     'southwest': {'lat': 48.8695411197085, 'lng': 2.329108419708498}}},\n",
       "   'icon': 'https://maps.gstatic.com/mapfiles/place_api/icons/lodging-71.png',\n",
       "   'id': 'd6ba3a2b30901ccace2218442b181313eb1b59cf',\n",
       "   'name': 'InterContinental Paris - Le Grand',\n",
       "   'opening_hours': {'open_now': True},\n",
       "   'photos': [{'height': 3608,\n",
       "     'html_attributions': ['<a href=\"https://maps.google.com/maps/contrib/107945298839607703601\">InterContinental Paris - Le Grand</a>'],\n",
       "     'photo_reference': 'CmRaAAAA1sf7K3MU-Kh-E7LhyZkC0cCZ3M8GsjXWVZ-MDq5atUYcH1mEmKd3KYPBYhdD5HY4gdHsJ8rRMgPbcRr1c26OlbUcZmintFwEeZUGI8qpEmh5ey8ElJ5scrVC0TfwwUW5EhDN86U-3RMFabYdb-txfV_tGhQr0V_TAATtmAtCHna4yeCfy004vA',\n",
       "     'width': 5108}],\n",
       "   'place_id': 'ChIJt4LY5C1u5kcRZmZx4KyzhVM',\n",
       "   'plus_code': {'compound_code': 'V8CJ+87 Paris, France',\n",
       "    'global_code': '8FW4V8CJ+87'},\n",
       "   'rating': 4.6,\n",
       "   'reference': 'ChIJt4LY5C1u5kcRZmZx4KyzhVM',\n",
       "   'scope': 'GOOGLE',\n",
       "   'types': ['lodging', 'point_of_interest', 'establishment'],\n",
       "   'user_ratings_total': 2386,\n",
       "   'vicinity': '2 Rue Scribe, Paris'},\n",
       "  {'business_status': 'OPERATIONAL',\n",
       "   'geometry': {'location': {'lat': 48.8705685, 'lng': 2.3297304},\n",
       "    'viewport': {'northeast': {'lat': 48.8717600302915,\n",
       "      'lng': 2.331226730291502},\n",
       "     'southwest': {'lat': 48.86906206970851, 'lng': 2.328528769708498}}},\n",
       "   'icon': 'https://maps.gstatic.com/mapfiles/place_api/icons/lodging-71.png',\n",
       "   'id': '4685a8ea0443f8de2b935474f6824f1015063b96',\n",
       "   'name': 'Sofitel Le Scribe Paris Opéra',\n",
       "   'opening_hours': {'open_now': True},\n",
       "   'photos': [{'height': 1334,\n",
       "     'html_attributions': ['<a href=\"https://maps.google.com/maps/contrib/111756809098022137449\">Sofitel Le Scribe Paris Opéra</a>'],\n",
       "     'photo_reference': 'CmRaAAAAgtajdtgcKXYmlYCYQWk-tcPpQ0PLiRpJ5cBNvq0A1lsn-eHGAWUYHCrF5HpEi4ckVjuz_03kZyLNGFaXTfYCGpFSdqDWfpTnjrdiY5gYqsDr6HvAtkoYXeFmfExYIJXkEhDFrZasqafz3hiuqFqIbsNwGhTUm2uO44DS2I0aPuOYK7yB46juRw',\n",
       "     'width': 2000}],\n",
       "   'place_id': 'ChIJz7k5yzZu5kcRRdYVAr48Zv8',\n",
       "   'plus_code': {'compound_code': 'V8CH+6V Paris, France',\n",
       "    'global_code': '8FW4V8CH+6V'},\n",
       "   'rating': 4.4,\n",
       "   'reference': 'ChIJz7k5yzZu5kcRRdYVAr48Zv8',\n",
       "   'scope': 'GOOGLE',\n",
       "   'types': ['lodging', 'point_of_interest', 'establishment'],\n",
       "   'user_ratings_total': 766,\n",
       "   'vicinity': '1 Rue Scribe, Paris'}],\n",
       " 'status': 'OK'}"
      ]
     },
     "execution_count": 25,
     "metadata": {},
     "output_type": "execute_result"
    }
   ],
   "source": [
    "hotels"
   ]
  },
  {
   "cell_type": "code",
   "execution_count": 26,
   "metadata": {},
   "outputs": [
    {
     "name": "stdout",
     "output_type": "stream",
     "text": [
      "No hotels found... skipping.\n",
      "No hotels found... skipping.\n",
      "No hotels found... skipping.\n",
      "No hotels found... skipping.\n",
      "No hotels found... skipping.\n",
      "No hotels found... skipping.\n",
      "No hotels found... skipping.\n",
      "No hotels found... skipping.\n",
      "No hotels found... skipping.\n",
      "No hotels found... skipping.\n",
      "No hotels found... skipping.\n",
      "No hotels found... skipping.\n",
      "No hotels found... skipping.\n",
      "No hotels found... skipping.\n",
      "No hotels found... skipping.\n"
     ]
    }
   ],
   "source": [
    "# Iterate through the DataFrame.\n",
    "for index, row in hotel_df.iterrows():\n",
    "    # Get the latitude and longitude.\n",
    "    lat = row[\"Lat\"]\n",
    "    lng = row[\"Lng\"]\n",
    "\n",
    "    # Add the latitude and longitude to location key for the params dictionary.\n",
    "    params[\"location\"] = f\"{lat},{lng}\"\n",
    "\n",
    "    # Use the search term: \"lodging\" and our latitude and longitude.\n",
    "    base_url = \"https://maps.googleapis.com/maps/api/place/nearbysearch/json\"\n",
    "    # Make request and get the JSON data from the search.\n",
    "    hotels = requests.get(base_url, params=params).json()\n",
    "    # Grab the first hotel from the results and store the name.\n",
    "    try:\n",
    "        hotel_df.loc[index, \"Hotel Name\"] = hotels[\"results\"][0][\"name\"]\n",
    "    except IndexError:\n",
    "        print(\"No hotels found... skipping.\")"
   ]
  },
  {
   "cell_type": "code",
   "execution_count": 27,
   "metadata": {},
   "outputs": [
    {
     "data": {
      "text/html": [
       "<div>\n",
       "<style scoped>\n",
       "    .dataframe tbody tr th:only-of-type {\n",
       "        vertical-align: middle;\n",
       "    }\n",
       "\n",
       "    .dataframe tbody tr th {\n",
       "        vertical-align: top;\n",
       "    }\n",
       "\n",
       "    .dataframe thead th {\n",
       "        text-align: right;\n",
       "    }\n",
       "</style>\n",
       "<table border=\"1\" class=\"dataframe\">\n",
       "  <thead>\n",
       "    <tr style=\"text-align: right;\">\n",
       "      <th></th>\n",
       "      <th>City</th>\n",
       "      <th>Country</th>\n",
       "      <th>Max Temp</th>\n",
       "      <th>Lat</th>\n",
       "      <th>Lng</th>\n",
       "      <th>Hotel Name</th>\n",
       "    </tr>\n",
       "  </thead>\n",
       "  <tbody>\n",
       "    <tr>\n",
       "      <th>4</th>\n",
       "      <td>Atuona</td>\n",
       "      <td>PF</td>\n",
       "      <td>80.28</td>\n",
       "      <td>-9.80</td>\n",
       "      <td>-139.03</td>\n",
       "      <td>Villa Enata</td>\n",
       "    </tr>\n",
       "    <tr>\n",
       "      <th>5</th>\n",
       "      <td>Ravar</td>\n",
       "      <td>IR</td>\n",
       "      <td>89.94</td>\n",
       "      <td>31.27</td>\n",
       "      <td>56.81</td>\n",
       "      <td>computertik</td>\n",
       "    </tr>\n",
       "    <tr>\n",
       "      <th>8</th>\n",
       "      <td>Labuan</td>\n",
       "      <td>MY</td>\n",
       "      <td>82.40</td>\n",
       "      <td>5.28</td>\n",
       "      <td>115.24</td>\n",
       "      <td>Tiara Labuan Hotel</td>\n",
       "    </tr>\n",
       "    <tr>\n",
       "      <th>9</th>\n",
       "      <td>Butaritari</td>\n",
       "      <td>KI</td>\n",
       "      <td>82.89</td>\n",
       "      <td>3.07</td>\n",
       "      <td>172.79</td>\n",
       "      <td>Isles Sunset Lodge</td>\n",
       "    </tr>\n",
       "    <tr>\n",
       "      <th>19</th>\n",
       "      <td>Ailigandi</td>\n",
       "      <td>PA</td>\n",
       "      <td>85.28</td>\n",
       "      <td>9.23</td>\n",
       "      <td>-78.02</td>\n",
       "      <td>akwa reef lodge</td>\n",
       "    </tr>\n",
       "    <tr>\n",
       "      <th>...</th>\n",
       "      <td>...</td>\n",
       "      <td>...</td>\n",
       "      <td>...</td>\n",
       "      <td>...</td>\n",
       "      <td>...</td>\n",
       "      <td>...</td>\n",
       "    </tr>\n",
       "    <tr>\n",
       "      <th>561</th>\n",
       "      <td>Urucurituba</td>\n",
       "      <td>BR</td>\n",
       "      <td>83.34</td>\n",
       "      <td>-2.68</td>\n",
       "      <td>-57.67</td>\n",
       "      <td></td>\n",
       "    </tr>\n",
       "    <tr>\n",
       "      <th>564</th>\n",
       "      <td>Acapulco</td>\n",
       "      <td>MX</td>\n",
       "      <td>77.00</td>\n",
       "      <td>16.86</td>\n",
       "      <td>-99.89</td>\n",
       "      <td>HS Hotsson Smart Acapulco</td>\n",
       "    </tr>\n",
       "    <tr>\n",
       "      <th>565</th>\n",
       "      <td>Frontera</td>\n",
       "      <td>MX</td>\n",
       "      <td>86.00</td>\n",
       "      <td>26.93</td>\n",
       "      <td>-101.45</td>\n",
       "      <td>Fiesta Inn Monclova</td>\n",
       "    </tr>\n",
       "    <tr>\n",
       "      <th>572</th>\n",
       "      <td>Torit</td>\n",
       "      <td>SS</td>\n",
       "      <td>86.97</td>\n",
       "      <td>4.41</td>\n",
       "      <td>32.57</td>\n",
       "      <td>Diplomat Guest House</td>\n",
       "    </tr>\n",
       "    <tr>\n",
       "      <th>573</th>\n",
       "      <td>Sibu</td>\n",
       "      <td>MY</td>\n",
       "      <td>84.20</td>\n",
       "      <td>2.30</td>\n",
       "      <td>111.82</td>\n",
       "      <td>RH HOTEL (4 Star)</td>\n",
       "    </tr>\n",
       "  </tbody>\n",
       "</table>\n",
       "<p>195 rows × 6 columns</p>\n",
       "</div>"
      ],
      "text/plain": [
       "            City Country  Max Temp    Lat     Lng                 Hotel Name\n",
       "4         Atuona      PF     80.28  -9.80 -139.03                Villa Enata\n",
       "5          Ravar      IR     89.94  31.27   56.81                computertik\n",
       "8         Labuan      MY     82.40   5.28  115.24         Tiara Labuan Hotel\n",
       "9     Butaritari      KI     82.89   3.07  172.79         Isles Sunset Lodge\n",
       "19     Ailigandi      PA     85.28   9.23  -78.02            akwa reef lodge\n",
       "..           ...     ...       ...    ...     ...                        ...\n",
       "561  Urucurituba      BR     83.34  -2.68  -57.67                           \n",
       "564     Acapulco      MX     77.00  16.86  -99.89  HS Hotsson Smart Acapulco\n",
       "565     Frontera      MX     86.00  26.93 -101.45        Fiesta Inn Monclova\n",
       "572        Torit      SS     86.97   4.41   32.57       Diplomat Guest House\n",
       "573         Sibu      MY     84.20   2.30  111.82          RH HOTEL (4 Star)\n",
       "\n",
       "[195 rows x 6 columns]"
      ]
     },
     "execution_count": 27,
     "metadata": {},
     "output_type": "execute_result"
    }
   ],
   "source": [
    "hotel_df"
   ]
  },
  {
   "cell_type": "markdown",
   "metadata": {},
   "source": [
    "## Create a Maximum Temperature Heatmap from a Hotel DataFrame"
   ]
  },
  {
   "cell_type": "code",
   "execution_count": 28,
   "metadata": {},
   "outputs": [
    {
     "data": {
      "application/vnd.jupyter.widget-view+json": {
       "model_id": "f5380b096fd84a368e1f05f7c84fa5f1",
       "version_major": 2,
       "version_minor": 0
      },
      "text/plain": [
       "Figure(layout=FigureLayout(height='420px'))"
      ]
     },
     "metadata": {},
     "output_type": "display_data"
    }
   ],
   "source": [
    "# Add a heatmap of temperature for the vacation spots.\n",
    "locations = hotel_df[[\"Lat\", \"Lng\"]]\n",
    "max_temp = hotel_df[\"Max Temp\"]\n",
    "fig = gmaps.figure(center=(30.0, 31.0), zoom_level=1.5)\n",
    "heat_layer = gmaps.heatmap_layer(locations, weights=max_temp, dissipating=False,\n",
    "             max_intensity=300, point_radius=4)\n",
    "\n",
    "fig.add_layer(heat_layer)\n",
    "# Call the figure to plot the data.\n",
    "fig"
   ]
  },
  {
   "cell_type": "code",
   "execution_count": 29,
   "metadata": {
    "scrolled": true
   },
   "outputs": [
    {
     "data": {
      "application/vnd.jupyter.widget-view+json": {
       "model_id": "979f1acaa0f84672ac8a36d4ff794894",
       "version_major": 2,
       "version_minor": 0
      },
      "text/plain": [
       "Figure(layout=FigureLayout(height='420px'))"
      ]
     },
     "metadata": {},
     "output_type": "display_data"
    }
   ],
   "source": [
    "# Add a heatmap of temperature for the vacation spots and marker for each city.\n",
    "locations = hotel_df[[\"Lat\", \"Lng\"]]\n",
    "max_temp = hotel_df[\"Max Temp\"]\n",
    "fig = gmaps.figure(center=(30.0, 31.0), zoom_level=1.5)\n",
    "heat_layer = gmaps.heatmap_layer(locations, weights=max_temp, \n",
    "             dissipating=False, max_intensity=300, point_radius=4)\n",
    "marker_layer = gmaps.marker_layer(locations)\n",
    "fig.add_layer(heat_layer)\n",
    "fig.add_layer(marker_layer)\n",
    "# Call the figure to plot the data.\n",
    "fig"
   ]
  },
  {
   "cell_type": "code",
   "execution_count": 30,
   "metadata": {},
   "outputs": [],
   "source": [
    "info_box_template = \"\"\"\n",
    "<dl>\n",
    "<dt>Hotel Name</dt><dd>{Hotel Name}</dd>\n",
    "<dt>City</dt><dd>{City}</dd>\n",
    "<dt>Country</dt><dd>{Country}</dd>\n",
    "<dt>Max Temp</dt><dd>{Max Temp} °F</dd>\n",
    "</dl>\n",
    "\"\"\""
   ]
  },
  {
   "cell_type": "code",
   "execution_count": 31,
   "metadata": {},
   "outputs": [
    {
     "data": {
      "application/vnd.jupyter.widget-view+json": {
       "model_id": "515246f5bc844b4080cd31b243ea15c9",
       "version_major": 2,
       "version_minor": 0
      },
      "text/plain": [
       "Figure(layout=FigureLayout(height='420px'))"
      ]
     },
     "metadata": {},
     "output_type": "display_data"
    }
   ],
   "source": [
    "# Add a heatmap of temperature for the vacation spots and marker for each city.\n",
    "locations = hotel_df[[\"Lat\", \"Lng\"]]\n",
    "max_temp = hotel_df[\"Max Temp\"]\n",
    "fig = gmaps.figure(center=(30.0, 31.0), zoom_level=1.5)\n",
    "heat_layer = gmaps.heatmap_layer(locations, weights=max_temp, \n",
    "             dissipating=False, max_intensity=300, point_radius=4)\n",
    "\n",
    "# Store the DataFrame Row.\n",
    "hotel_info = [info_box_template.format(**row) for index, row in hotel_df.iterrows()]\n",
    "\n",
    "marker_layer = gmaps.marker_layer(locations,info_box_content=hotel_info)\n",
    "fig.add_layer(heat_layer)\n",
    "fig.add_layer(marker_layer)\n",
    "# Call the figure to plot the data.\n",
    "fig"
   ]
  }
 ],
 "metadata": {
  "kernelspec": {
   "display_name": "PythonData",
   "language": "python",
   "name": "pythondata"
  },
  "language_info": {
   "codemirror_mode": {
    "name": "ipython",
    "version": 3
   },
   "file_extension": ".py",
   "mimetype": "text/x-python",
   "name": "python",
   "nbconvert_exporter": "python",
   "pygments_lexer": "ipython3",
   "version": "3.7.7"
  }
 },
 "nbformat": 4,
 "nbformat_minor": 4
}
