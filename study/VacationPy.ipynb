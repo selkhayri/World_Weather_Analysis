{
 "cells": [
  {
   "cell_type": "markdown",
   "metadata": {},
   "source": [
    "# 6.5.2 Create Heatmaps for Weather Parameters"
   ]
  },
  {
   "cell_type": "code",
   "execution_count": 13,
   "metadata": {},
   "outputs": [],
   "source": [
    "# Import the dependencies.\n",
    "import pandas as pd\n",
    "import gmaps\n",
    "import requests\n",
    "# Import the API key.\n",
    "from config import g_key"
   ]
  },
  {
   "cell_type": "code",
   "execution_count": 14,
   "metadata": {},
   "outputs": [
    {
     "data": {
      "text/html": [
       "<div>\n",
       "<style scoped>\n",
       "    .dataframe tbody tr th:only-of-type {\n",
       "        vertical-align: middle;\n",
       "    }\n",
       "\n",
       "    .dataframe tbody tr th {\n",
       "        vertical-align: top;\n",
       "    }\n",
       "\n",
       "    .dataframe thead th {\n",
       "        text-align: right;\n",
       "    }\n",
       "</style>\n",
       "<table border=\"1\" class=\"dataframe\">\n",
       "  <thead>\n",
       "    <tr style=\"text-align: right;\">\n",
       "      <th></th>\n",
       "      <th>City_ID</th>\n",
       "      <th>City</th>\n",
       "      <th>Country</th>\n",
       "      <th>Date</th>\n",
       "      <th>Lat</th>\n",
       "      <th>Lng</th>\n",
       "      <th>Max Temp</th>\n",
       "      <th>Humidity</th>\n",
       "      <th>Cloudiness</th>\n",
       "      <th>Wind Speed</th>\n",
       "    </tr>\n",
       "  </thead>\n",
       "  <tbody>\n",
       "    <tr>\n",
       "      <th>0</th>\n",
       "      <td>0</td>\n",
       "      <td>Bluff</td>\n",
       "      <td>NZ</td>\n",
       "      <td>2020-05-23 13:58:34</td>\n",
       "      <td>-46.60</td>\n",
       "      <td>168.33</td>\n",
       "      <td>49.23</td>\n",
       "      <td>81</td>\n",
       "      <td>100</td>\n",
       "      <td>6.02</td>\n",
       "    </tr>\n",
       "    <tr>\n",
       "      <th>1</th>\n",
       "      <td>1</td>\n",
       "      <td>Port Alfred</td>\n",
       "      <td>ZA</td>\n",
       "      <td>2020-05-23 14:02:46</td>\n",
       "      <td>-33.59</td>\n",
       "      <td>26.89</td>\n",
       "      <td>66.99</td>\n",
       "      <td>78</td>\n",
       "      <td>0</td>\n",
       "      <td>1.99</td>\n",
       "    </tr>\n",
       "    <tr>\n",
       "      <th>2</th>\n",
       "      <td>2</td>\n",
       "      <td>Broome</td>\n",
       "      <td>US</td>\n",
       "      <td>2020-05-23 14:02:46</td>\n",
       "      <td>42.25</td>\n",
       "      <td>-75.83</td>\n",
       "      <td>66.00</td>\n",
       "      <td>93</td>\n",
       "      <td>75</td>\n",
       "      <td>6.93</td>\n",
       "    </tr>\n",
       "    <tr>\n",
       "      <th>3</th>\n",
       "      <td>3</td>\n",
       "      <td>Bredasdorp</td>\n",
       "      <td>ZA</td>\n",
       "      <td>2020-05-23 14:02:46</td>\n",
       "      <td>-34.53</td>\n",
       "      <td>20.04</td>\n",
       "      <td>73.40</td>\n",
       "      <td>5</td>\n",
       "      <td>0</td>\n",
       "      <td>14.99</td>\n",
       "    </tr>\n",
       "    <tr>\n",
       "      <th>4</th>\n",
       "      <td>4</td>\n",
       "      <td>Atuona</td>\n",
       "      <td>PF</td>\n",
       "      <td>2020-05-23 14:02:46</td>\n",
       "      <td>-9.80</td>\n",
       "      <td>-139.03</td>\n",
       "      <td>80.28</td>\n",
       "      <td>78</td>\n",
       "      <td>49</td>\n",
       "      <td>17.16</td>\n",
       "    </tr>\n",
       "    <tr>\n",
       "      <th>...</th>\n",
       "      <td>...</td>\n",
       "      <td>...</td>\n",
       "      <td>...</td>\n",
       "      <td>...</td>\n",
       "      <td>...</td>\n",
       "      <td>...</td>\n",
       "      <td>...</td>\n",
       "      <td>...</td>\n",
       "      <td>...</td>\n",
       "      <td>...</td>\n",
       "    </tr>\n",
       "    <tr>\n",
       "      <th>569</th>\n",
       "      <td>569</td>\n",
       "      <td>Malangali</td>\n",
       "      <td>TZ</td>\n",
       "      <td>2020-05-23 14:04:24</td>\n",
       "      <td>-8.57</td>\n",
       "      <td>34.85</td>\n",
       "      <td>70.23</td>\n",
       "      <td>54</td>\n",
       "      <td>1</td>\n",
       "      <td>10.18</td>\n",
       "    </tr>\n",
       "    <tr>\n",
       "      <th>570</th>\n",
       "      <td>570</td>\n",
       "      <td>Malchevskaya</td>\n",
       "      <td>RU</td>\n",
       "      <td>2020-05-23 14:04:24</td>\n",
       "      <td>49.06</td>\n",
       "      <td>40.36</td>\n",
       "      <td>56.80</td>\n",
       "      <td>53</td>\n",
       "      <td>100</td>\n",
       "      <td>12.75</td>\n",
       "    </tr>\n",
       "    <tr>\n",
       "      <th>571</th>\n",
       "      <td>571</td>\n",
       "      <td>Gull Lake</td>\n",
       "      <td>CA</td>\n",
       "      <td>2020-05-23 14:04:24</td>\n",
       "      <td>50.10</td>\n",
       "      <td>-108.48</td>\n",
       "      <td>41.00</td>\n",
       "      <td>86</td>\n",
       "      <td>1</td>\n",
       "      <td>12.75</td>\n",
       "    </tr>\n",
       "    <tr>\n",
       "      <th>572</th>\n",
       "      <td>572</td>\n",
       "      <td>Torit</td>\n",
       "      <td>SS</td>\n",
       "      <td>2020-05-23 14:04:24</td>\n",
       "      <td>4.41</td>\n",
       "      <td>32.57</td>\n",
       "      <td>86.97</td>\n",
       "      <td>54</td>\n",
       "      <td>95</td>\n",
       "      <td>1.99</td>\n",
       "    </tr>\n",
       "    <tr>\n",
       "      <th>573</th>\n",
       "      <td>573</td>\n",
       "      <td>Sibu</td>\n",
       "      <td>MY</td>\n",
       "      <td>2020-05-23 14:04:24</td>\n",
       "      <td>2.30</td>\n",
       "      <td>111.82</td>\n",
       "      <td>84.20</td>\n",
       "      <td>89</td>\n",
       "      <td>40</td>\n",
       "      <td>1.19</td>\n",
       "    </tr>\n",
       "  </tbody>\n",
       "</table>\n",
       "<p>574 rows × 10 columns</p>\n",
       "</div>"
      ],
      "text/plain": [
       "     City_ID          City Country                 Date    Lat     Lng  \\\n",
       "0          0         Bluff      NZ  2020-05-23 13:58:34 -46.60  168.33   \n",
       "1          1   Port Alfred      ZA  2020-05-23 14:02:46 -33.59   26.89   \n",
       "2          2        Broome      US  2020-05-23 14:02:46  42.25  -75.83   \n",
       "3          3    Bredasdorp      ZA  2020-05-23 14:02:46 -34.53   20.04   \n",
       "4          4        Atuona      PF  2020-05-23 14:02:46  -9.80 -139.03   \n",
       "..       ...           ...     ...                  ...    ...     ...   \n",
       "569      569     Malangali      TZ  2020-05-23 14:04:24  -8.57   34.85   \n",
       "570      570  Malchevskaya      RU  2020-05-23 14:04:24  49.06   40.36   \n",
       "571      571     Gull Lake      CA  2020-05-23 14:04:24  50.10 -108.48   \n",
       "572      572         Torit      SS  2020-05-23 14:04:24   4.41   32.57   \n",
       "573      573          Sibu      MY  2020-05-23 14:04:24   2.30  111.82   \n",
       "\n",
       "     Max Temp  Humidity  Cloudiness  Wind Speed  \n",
       "0       49.23        81         100        6.02  \n",
       "1       66.99        78           0        1.99  \n",
       "2       66.00        93          75        6.93  \n",
       "3       73.40         5           0       14.99  \n",
       "4       80.28        78          49       17.16  \n",
       "..        ...       ...         ...         ...  \n",
       "569     70.23        54           1       10.18  \n",
       "570     56.80        53         100       12.75  \n",
       "571     41.00        86           1       12.75  \n",
       "572     86.97        54          95        1.99  \n",
       "573     84.20        89          40        1.19  \n",
       "\n",
       "[574 rows x 10 columns]"
      ]
     },
     "execution_count": 14,
     "metadata": {},
     "output_type": "execute_result"
    }
   ],
   "source": [
    "# Store the CSV you saved created in part one into a DataFrame.\n",
    "city_data_df = pd.read_csv(\"weather_data/cities.csv\")\n",
    "city_data_df"
   ]
  },
  {
   "cell_type": "markdown",
   "metadata": {},
   "source": [
    "Confirm the data types for the data columns are integers or floating-point decimal numbers."
   ]
  },
  {
   "cell_type": "code",
   "execution_count": 15,
   "metadata": {
    "scrolled": true
   },
   "outputs": [
    {
     "data": {
      "text/plain": [
       "City_ID         int64\n",
       "City           object\n",
       "Country        object\n",
       "Date           object\n",
       "Lat           float64\n",
       "Lng           float64\n",
       "Max Temp      float64\n",
       "Humidity        int64\n",
       "Cloudiness      int64\n",
       "Wind Speed    float64\n",
       "dtype: object"
      ]
     },
     "execution_count": 15,
     "metadata": {},
     "output_type": "execute_result"
    }
   ],
   "source": [
    "city_data_df.dtypes"
   ]
  },
  {
   "cell_type": "markdown",
   "metadata": {},
   "source": [
    "Create a Maximum Temperature Heatmap"
   ]
  },
  {
   "cell_type": "code",
   "execution_count": 16,
   "metadata": {},
   "outputs": [],
   "source": [
    "# Configure gmaps to use your Google API key.\n",
    "gmaps.configure(api_key=g_key)"
   ]
  },
  {
   "cell_type": "markdown",
   "metadata": {},
   "source": [
    "Next, create the heatmap for the maximum temperature."
   ]
  },
  {
   "cell_type": "code",
   "execution_count": 17,
   "metadata": {},
   "outputs": [
    {
     "data": {
      "application/vnd.jupyter.widget-view+json": {
       "model_id": "800a7748ad7743a3b89448aa096d199e",
       "version_major": 2,
       "version_minor": 0
      },
      "text/plain": [
       "Figure(layout=FigureLayout(height='420px'))"
      ]
     },
     "metadata": {},
     "output_type": "display_data"
    }
   ],
   "source": [
    "# Heatmap of temperature\n",
    "# Get the latitude and longitude.\n",
    "locations = city_data_df[[\"Lat\", \"Lng\"]]\n",
    "# Get the maximum temperature.\n",
    "max_temp = city_data_df[\"Max Temp\"]\n",
    "# Assign the figure variable.\n",
    "fig = gmaps.figure()\n",
    "# Assign the heatmap variable.\n",
    "heat_layer = gmaps.heatmap_layer(locations, weights=max_temp)\n",
    "# Add the heatmap layer.\n",
    "fig.add_layer(heat_layer)\n",
    "# Call the figure to plot the data.\n",
    "fig"
   ]
  },
  {
   "cell_type": "markdown",
   "metadata": {},
   "source": [
    "Google heatmaps do not plot negative numbers. \n",
    "\n",
    "To remove the negative temperatures we can use a for loop to iterate through the max_temp and add the temperatures that are greater than 0 °F to a new list."
   ]
  },
  {
   "cell_type": "code",
   "execution_count": 18,
   "metadata": {},
   "outputs": [],
   "source": [
    "# Get the maximum temperature.\n",
    "max_temp = city_data_df[\"Max Temp\"]\n",
    "temps = []\n",
    "for temp in max_temp:\n",
    "    temps.append(max(temp, 0))"
   ]
  },
  {
   "cell_type": "code",
   "execution_count": 19,
   "metadata": {},
   "outputs": [
    {
     "data": {
      "application/vnd.jupyter.widget-view+json": {
       "model_id": "d5d3491efdb14381978aebf5b5f086c3",
       "version_major": 2,
       "version_minor": 0
      },
      "text/plain": [
       "Figure(layout=FigureLayout(height='420px'))"
      ]
     },
     "metadata": {},
     "output_type": "display_data"
    }
   ],
   "source": [
    "# Heatmap of temperature\n",
    "# Get the latitude and longitude.\n",
    "locations = city_data_df[[\"Lat\", \"Lng\"]]\n",
    "# Get the maximum temperature.\n",
    "max_temp = city_data_df[\"Max Temp\"]\n",
    "# Assign the figure variable.\n",
    "fig = gmaps.figure()\n",
    "# Assign the heatmap variable.\n",
    "# heat_layer = gmaps.heatmap_layer(locations, weights=max_temp)\n",
    "heat_layer = gmaps.heatmap_layer(locations, weights=temps)\n",
    "# Add the heatmap layer.\n",
    "fig.add_layer(heat_layer)\n",
    "# Call the figure to plot the data.\n",
    "fig"
   ]
  },
  {
   "cell_type": "markdown",
   "metadata": {},
   "source": [
    "Using list comprehension to create heat_layer"
   ]
  },
  {
   "cell_type": "code",
   "execution_count": 20,
   "metadata": {},
   "outputs": [
    {
     "data": {
      "application/vnd.jupyter.widget-view+json": {
       "model_id": "549f14eb51b0475bb22915f491046827",
       "version_major": 2,
       "version_minor": 0
      },
      "text/plain": [
       "Figure(layout=FigureLayout(height='420px'))"
      ]
     },
     "metadata": {},
     "output_type": "display_data"
    }
   ],
   "source": [
    "# Heatmap of temperature\n",
    "# Get the latitude and longitude.\n",
    "locations = city_data_df[[\"Lat\", \"Lng\"]]\n",
    "# Get the maximum temperature.\n",
    "max_temp = city_data_df[\"Max Temp\"]\n",
    "# Assign the figure variable.\n",
    "fig = gmaps.figure()\n",
    "# Assign the heatmap variable.\n",
    "# heat_layer = gmaps.heatmap_layer(locations, weights=max_temp)\n",
    "# heat_layer = gmaps.heatmap_layer(locations, weights=temps)\n",
    "heat_layer = gmaps.heatmap_layer(locations, weights=[max(temp, 0) for temp in max_temp])\n",
    "# Add the heatmap layer.\n",
    "fig.add_layer(heat_layer)\n",
    "# Call the figure to plot the data.\n",
    "fig\n"
   ]
  },
  {
   "cell_type": "markdown",
   "metadata": {},
   "source": [
    "## Adjust Heatmap Zoom, Intensity, and Point Radius"
   ]
  },
  {
   "cell_type": "markdown",
   "metadata": {},
   "source": [
    "First, add the geographic center of Earth in the form of latitude and longitude (30.0° N and 31.0° E). Also, add a zoom level so that only one map of Earth is shown."
   ]
  },
  {
   "cell_type": "code",
   "execution_count": 21,
   "metadata": {},
   "outputs": [
    {
     "data": {
      "application/vnd.jupyter.widget-view+json": {
       "model_id": "5cb899ef260d46709b60067c8d915724",
       "version_major": 2,
       "version_minor": 0
      },
      "text/plain": [
       "Figure(layout=FigureLayout(height='420px'))"
      ]
     },
     "metadata": {},
     "output_type": "display_data"
    }
   ],
   "source": [
    "fig = gmaps.figure(center=(30.0, 31.0), zoom_level=1.5)\n",
    "# Add the heatmap layer.\n",
    "fig.add_layer(heat_layer)\n",
    "# Call the figure to plot the data.\n",
    "fig"
   ]
  },
  {
   "cell_type": "markdown",
   "metadata": {},
   "source": [
    "If we scroll and zoom in on North America, we can see that the circles for the temperatures need to be modified so that they are larger and show temperature gradient differences."
   ]
  },
  {
   "cell_type": "code",
   "execution_count": 22,
   "metadata": {},
   "outputs": [
    {
     "data": {
      "application/vnd.jupyter.widget-view+json": {
       "model_id": "fcd3f1780fbf490395c21e0d79187f74",
       "version_major": 2,
       "version_minor": 0
      },
      "text/plain": [
       "Figure(layout=FigureLayout(height='420px'))"
      ]
     },
     "metadata": {},
     "output_type": "display_data"
    }
   ],
   "source": [
    "# Heatmap of temperature\n",
    "# Get the latitude and longitude.\n",
    "locations = city_data_df[[\"Lat\", \"Lng\"]]\n",
    "# Get the maximum temperature.\n",
    "max_temp = city_data_df[\"Max Temp\"]\n",
    "# Assign the figure variable.\n",
    "fig = gmaps.figure()\n",
    "# Assign the heatmap variable.\n",
    "# heat_layer = gmaps.heatmap_layer(locations, weights=max_temp)\n",
    "# heat_layer = gmaps.heatmap_layer(locations, weights=temps)\n",
    "# heat_layer = gmaps.heatmap_layer(locations, weights=[max(temp, 0) for temp in max_temp])\n",
    "heat_layer = gmaps.heatmap_layer(locations, weights=temps, dissipating=False, max_intensity=300, point_radius=4)\n",
    "# Add the heatmap layer.\n",
    "fig.add_layer(heat_layer)\n",
    "# Call the figure to plot the data.\n",
    "fig"
   ]
  },
  {
   "cell_type": "markdown",
   "metadata": {},
   "source": [
    "## Create a Percent Humidity Heatmap"
   ]
  },
  {
   "cell_type": "code",
   "execution_count": 23,
   "metadata": {
    "scrolled": true
   },
   "outputs": [
    {
     "data": {
      "application/vnd.jupyter.widget-view+json": {
       "model_id": "8496051d9c674c3789e60255f524be78",
       "version_major": 2,
       "version_minor": 0
      },
      "text/plain": [
       "Figure(layout=FigureLayout(height='420px'))"
      ]
     },
     "metadata": {},
     "output_type": "display_data"
    }
   ],
   "source": [
    "# Heatmap of percent humidity\n",
    "locations = city_data_df[[\"Lat\", \"Lng\"]]\n",
    "humidity = city_data_df[\"Humidity\"]\n",
    "fig = gmaps.figure(center=(30.0, 31.0), zoom_level=1.5)\n",
    "heat_layer = gmaps.heatmap_layer(locations, weights=humidity, dissipating=False, max_intensity=300, point_radius=4)\n",
    "\n",
    "fig.add_layer(heat_layer)\n",
    "# Call the figure to plot the data.\n",
    "fig"
   ]
  },
  {
   "cell_type": "markdown",
   "metadata": {},
   "source": [
    "## Create a Percent Cloudiness Heatmap"
   ]
  },
  {
   "cell_type": "code",
   "execution_count": 24,
   "metadata": {
    "scrolled": true
   },
   "outputs": [
    {
     "data": {
      "application/vnd.jupyter.widget-view+json": {
       "model_id": "8a06b78f774343c28505173f03272e21",
       "version_major": 2,
       "version_minor": 0
      },
      "text/plain": [
       "Figure(layout=FigureLayout(height='420px'))"
      ]
     },
     "metadata": {},
     "output_type": "display_data"
    }
   ],
   "source": [
    "# Heatmap of percent cloudiness\n",
    "locations = city_data_df[[\"Lat\", \"Lng\"]]\n",
    "clouds = city_data_df[\"Cloudiness\"]\n",
    "fig = gmaps.figure(center=(30.0, 31.0), zoom_level=1.5)\n",
    "heat_layer = gmaps.heatmap_layer(locations, weights=clouds, dissipating=False, max_intensity=300, point_radius=4)\n",
    "\n",
    "fig.add_layer(heat_layer)\n",
    "# Call the figure to plot the data.\n",
    "fig"
   ]
  },
  {
   "cell_type": "markdown",
   "metadata": {},
   "source": [
    "## Create a Wind Speed Heatmap"
   ]
  },
  {
   "cell_type": "code",
   "execution_count": 25,
   "metadata": {},
   "outputs": [
    {
     "data": {
      "application/vnd.jupyter.widget-view+json": {
       "model_id": "151aa1714f1248f08a90518a6d11c8f8",
       "version_major": 2,
       "version_minor": 0
      },
      "text/plain": [
       "Figure(layout=FigureLayout(height='420px'))"
      ]
     },
     "metadata": {},
     "output_type": "display_data"
    }
   ],
   "source": [
    "# Heatmap of wind speed\n",
    "locations = city_data_df[[\"Lat\", \"Lng\"]]\n",
    "winds = city_data_df[\"Wind Speed\"]\n",
    "fig = gmaps.figure(center=(30.0, 31.0), zoom_level=1.5)\n",
    "heat_layer = gmaps.heatmap_layer(locations, weights=winds, dissipating=False, max_intensity=300, point_radius=4)\n",
    "\n",
    "fig.add_layer(heat_layer)\n",
    "# Call the figure to plot the data.\n",
    "fig"
   ]
  },
  {
   "cell_type": "code",
   "execution_count": 26,
   "metadata": {},
   "outputs": [
    {
     "name": "stdout",
     "output_type": "stream",
     "text": [
      "What is the minimum temperature you would like for your trip? 75\n",
      "What is the maximum temperature you would like for your trip? 90\n"
     ]
    }
   ],
   "source": [
    "# Ask the customer to add a minimum and maximum temperature value.\n",
    "min_temp = float(input(\"What is the minimum temperature you would like for your trip? \"))\n",
    "max_temp = float(input(\"What is the maximum temperature you would like for your trip? \"))"
   ]
  },
  {
   "cell_type": "markdown",
   "metadata": {},
   "source": [
    "Next, filter the maximum temperature column in the city_data_df DataFrame using logical operators to create a new DataFrame with the cities that meet the customer’s criteria."
   ]
  },
  {
   "cell_type": "code",
   "execution_count": 27,
   "metadata": {},
   "outputs": [
    {
     "data": {
      "text/html": [
       "<div>\n",
       "<style scoped>\n",
       "    .dataframe tbody tr th:only-of-type {\n",
       "        vertical-align: middle;\n",
       "    }\n",
       "\n",
       "    .dataframe tbody tr th {\n",
       "        vertical-align: top;\n",
       "    }\n",
       "\n",
       "    .dataframe thead th {\n",
       "        text-align: right;\n",
       "    }\n",
       "</style>\n",
       "<table border=\"1\" class=\"dataframe\">\n",
       "  <thead>\n",
       "    <tr style=\"text-align: right;\">\n",
       "      <th></th>\n",
       "      <th>City_ID</th>\n",
       "      <th>City</th>\n",
       "      <th>Country</th>\n",
       "      <th>Date</th>\n",
       "      <th>Lat</th>\n",
       "      <th>Lng</th>\n",
       "      <th>Max Temp</th>\n",
       "      <th>Humidity</th>\n",
       "      <th>Cloudiness</th>\n",
       "      <th>Wind Speed</th>\n",
       "    </tr>\n",
       "  </thead>\n",
       "  <tbody>\n",
       "    <tr>\n",
       "      <th>4</th>\n",
       "      <td>4</td>\n",
       "      <td>Atuona</td>\n",
       "      <td>PF</td>\n",
       "      <td>2020-05-23 14:02:46</td>\n",
       "      <td>-9.80</td>\n",
       "      <td>-139.03</td>\n",
       "      <td>80.28</td>\n",
       "      <td>78</td>\n",
       "      <td>49</td>\n",
       "      <td>17.16</td>\n",
       "    </tr>\n",
       "    <tr>\n",
       "      <th>5</th>\n",
       "      <td>5</td>\n",
       "      <td>Ravar</td>\n",
       "      <td>IR</td>\n",
       "      <td>2020-05-23 14:02:47</td>\n",
       "      <td>31.27</td>\n",
       "      <td>56.81</td>\n",
       "      <td>89.94</td>\n",
       "      <td>9</td>\n",
       "      <td>0</td>\n",
       "      <td>12.82</td>\n",
       "    </tr>\n",
       "    <tr>\n",
       "      <th>8</th>\n",
       "      <td>8</td>\n",
       "      <td>Labuan</td>\n",
       "      <td>MY</td>\n",
       "      <td>2020-05-23 14:02:47</td>\n",
       "      <td>5.28</td>\n",
       "      <td>115.24</td>\n",
       "      <td>82.40</td>\n",
       "      <td>94</td>\n",
       "      <td>75</td>\n",
       "      <td>1.12</td>\n",
       "    </tr>\n",
       "    <tr>\n",
       "      <th>9</th>\n",
       "      <td>9</td>\n",
       "      <td>Butaritari</td>\n",
       "      <td>KI</td>\n",
       "      <td>2020-05-23 13:58:33</td>\n",
       "      <td>3.07</td>\n",
       "      <td>172.79</td>\n",
       "      <td>82.89</td>\n",
       "      <td>76</td>\n",
       "      <td>100</td>\n",
       "      <td>11.30</td>\n",
       "    </tr>\n",
       "    <tr>\n",
       "      <th>19</th>\n",
       "      <td>19</td>\n",
       "      <td>Ailigandi</td>\n",
       "      <td>PA</td>\n",
       "      <td>2020-05-23 14:02:49</td>\n",
       "      <td>9.23</td>\n",
       "      <td>-78.02</td>\n",
       "      <td>85.28</td>\n",
       "      <td>69</td>\n",
       "      <td>88</td>\n",
       "      <td>1.86</td>\n",
       "    </tr>\n",
       "    <tr>\n",
       "      <th>...</th>\n",
       "      <td>...</td>\n",
       "      <td>...</td>\n",
       "      <td>...</td>\n",
       "      <td>...</td>\n",
       "      <td>...</td>\n",
       "      <td>...</td>\n",
       "      <td>...</td>\n",
       "      <td>...</td>\n",
       "      <td>...</td>\n",
       "      <td>...</td>\n",
       "    </tr>\n",
       "    <tr>\n",
       "      <th>561</th>\n",
       "      <td>561</td>\n",
       "      <td>Urucurituba</td>\n",
       "      <td>BR</td>\n",
       "      <td>2020-05-23 14:04:23</td>\n",
       "      <td>-2.68</td>\n",
       "      <td>-57.67</td>\n",
       "      <td>83.34</td>\n",
       "      <td>91</td>\n",
       "      <td>70</td>\n",
       "      <td>4.41</td>\n",
       "    </tr>\n",
       "    <tr>\n",
       "      <th>564</th>\n",
       "      <td>564</td>\n",
       "      <td>Acapulco</td>\n",
       "      <td>MX</td>\n",
       "      <td>2020-05-23 14:02:01</td>\n",
       "      <td>16.86</td>\n",
       "      <td>-99.89</td>\n",
       "      <td>77.00</td>\n",
       "      <td>88</td>\n",
       "      <td>75</td>\n",
       "      <td>4.70</td>\n",
       "    </tr>\n",
       "    <tr>\n",
       "      <th>565</th>\n",
       "      <td>565</td>\n",
       "      <td>Frontera</td>\n",
       "      <td>MX</td>\n",
       "      <td>2020-05-23 14:04:23</td>\n",
       "      <td>26.93</td>\n",
       "      <td>-101.45</td>\n",
       "      <td>86.00</td>\n",
       "      <td>64</td>\n",
       "      <td>20</td>\n",
       "      <td>4.70</td>\n",
       "    </tr>\n",
       "    <tr>\n",
       "      <th>572</th>\n",
       "      <td>572</td>\n",
       "      <td>Torit</td>\n",
       "      <td>SS</td>\n",
       "      <td>2020-05-23 14:04:24</td>\n",
       "      <td>4.41</td>\n",
       "      <td>32.57</td>\n",
       "      <td>86.97</td>\n",
       "      <td>54</td>\n",
       "      <td>95</td>\n",
       "      <td>1.99</td>\n",
       "    </tr>\n",
       "    <tr>\n",
       "      <th>573</th>\n",
       "      <td>573</td>\n",
       "      <td>Sibu</td>\n",
       "      <td>MY</td>\n",
       "      <td>2020-05-23 14:04:24</td>\n",
       "      <td>2.30</td>\n",
       "      <td>111.82</td>\n",
       "      <td>84.20</td>\n",
       "      <td>89</td>\n",
       "      <td>40</td>\n",
       "      <td>1.19</td>\n",
       "    </tr>\n",
       "  </tbody>\n",
       "</table>\n",
       "<p>195 rows × 10 columns</p>\n",
       "</div>"
      ],
      "text/plain": [
       "     City_ID         City Country                 Date    Lat     Lng  \\\n",
       "4          4       Atuona      PF  2020-05-23 14:02:46  -9.80 -139.03   \n",
       "5          5        Ravar      IR  2020-05-23 14:02:47  31.27   56.81   \n",
       "8          8       Labuan      MY  2020-05-23 14:02:47   5.28  115.24   \n",
       "9          9   Butaritari      KI  2020-05-23 13:58:33   3.07  172.79   \n",
       "19        19    Ailigandi      PA  2020-05-23 14:02:49   9.23  -78.02   \n",
       "..       ...          ...     ...                  ...    ...     ...   \n",
       "561      561  Urucurituba      BR  2020-05-23 14:04:23  -2.68  -57.67   \n",
       "564      564     Acapulco      MX  2020-05-23 14:02:01  16.86  -99.89   \n",
       "565      565     Frontera      MX  2020-05-23 14:04:23  26.93 -101.45   \n",
       "572      572        Torit      SS  2020-05-23 14:04:24   4.41   32.57   \n",
       "573      573         Sibu      MY  2020-05-23 14:04:24   2.30  111.82   \n",
       "\n",
       "     Max Temp  Humidity  Cloudiness  Wind Speed  \n",
       "4       80.28        78          49       17.16  \n",
       "5       89.94         9           0       12.82  \n",
       "8       82.40        94          75        1.12  \n",
       "9       82.89        76         100       11.30  \n",
       "19      85.28        69          88        1.86  \n",
       "..        ...       ...         ...         ...  \n",
       "561     83.34        91          70        4.41  \n",
       "564     77.00        88          75        4.70  \n",
       "565     86.00        64          20        4.70  \n",
       "572     86.97        54          95        1.99  \n",
       "573     84.20        89          40        1.19  \n",
       "\n",
       "[195 rows x 10 columns]"
      ]
     },
     "execution_count": 27,
     "metadata": {},
     "output_type": "execute_result"
    }
   ],
   "source": [
    "# Filter the dataset to find the cities that fit the criteria.\n",
    "preferred_cities_df = city_data_df.loc[(city_data_df[\"Max Temp\"] >= 75) & \\\n",
    "                         (city_data_df[\"Max Temp\"] <= 90)]\n",
    "preferred_cities_df"
   ]
  },
  {
   "cell_type": "markdown",
   "metadata": {},
   "source": [
    "determine if the preferred_cities_df DataFrame has any null values for any of the rows."
   ]
  },
  {
   "cell_type": "code",
   "execution_count": 28,
   "metadata": {},
   "outputs": [
    {
     "data": {
      "text/plain": [
       "City_ID       195\n",
       "City          195\n",
       "Country       192\n",
       "Date          195\n",
       "Lat           195\n",
       "Lng           195\n",
       "Max Temp      195\n",
       "Humidity      195\n",
       "Cloudiness    195\n",
       "Wind Speed    195\n",
       "dtype: int64"
      ]
     },
     "execution_count": 28,
     "metadata": {},
     "output_type": "execute_result"
    }
   ],
   "source": [
    "preferred_cities_df.count()"
   ]
  },
  {
   "cell_type": "code",
   "execution_count": 29,
   "metadata": {},
   "outputs": [
    {
     "data": {
      "text/plain": [
       "City_ID       0\n",
       "City          0\n",
       "Country       3\n",
       "Date          0\n",
       "Lat           0\n",
       "Lng           0\n",
       "Max Temp      0\n",
       "Humidity      0\n",
       "Cloudiness    0\n",
       "Wind Speed    0\n",
       "dtype: int64"
      ]
     },
     "execution_count": 29,
     "metadata": {},
     "output_type": "execute_result"
    }
   ],
   "source": [
    "preferred_cities_df.isnull().sum()"
   ]
  },
  {
   "cell_type": "code",
   "execution_count": 30,
   "metadata": {},
   "outputs": [
    {
     "data": {
      "text/plain": [
       "City_ID       195\n",
       "City          195\n",
       "Country       192\n",
       "Date          195\n",
       "Lat           195\n",
       "Lng           195\n",
       "Max Temp      195\n",
       "Humidity      195\n",
       "Cloudiness    195\n",
       "Wind Speed    195\n",
       "dtype: int64"
      ]
     },
     "execution_count": 30,
     "metadata": {},
     "output_type": "execute_result"
    }
   ],
   "source": [
    "preferred_cities_df.notnull().sum()"
   ]
  },
  {
   "cell_type": "markdown",
   "metadata": {},
   "source": [
    "Drop rows that contain null values"
   ]
  },
  {
   "cell_type": "code",
   "execution_count": 31,
   "metadata": {},
   "outputs": [],
   "source": [
    "city_data_df.dropna(inplace=True)"
   ]
  },
  {
   "cell_type": "code",
   "execution_count": 32,
   "metadata": {},
   "outputs": [
    {
     "data": {
      "text/plain": [
       "City_ID       195\n",
       "City          195\n",
       "Country       192\n",
       "Date          195\n",
       "Lat           195\n",
       "Lng           195\n",
       "Max Temp      195\n",
       "Humidity      195\n",
       "Cloudiness    195\n",
       "Wind Speed    195\n",
       "dtype: int64"
      ]
     },
     "execution_count": 32,
     "metadata": {},
     "output_type": "execute_result"
    }
   ],
   "source": [
    "preferred_cities_df.count()"
   ]
  },
  {
   "cell_type": "markdown",
   "metadata": {},
   "source": [
    "# 6.5.4 Map Vacation Criteria"
   ]
  },
  {
   "cell_type": "markdown",
   "metadata": {},
   "source": [
    "Get Travel Destinations"
   ]
  },
  {
   "cell_type": "code",
   "execution_count": 33,
   "metadata": {},
   "outputs": [
    {
     "data": {
      "text/html": [
       "<div>\n",
       "<style scoped>\n",
       "    .dataframe tbody tr th:only-of-type {\n",
       "        vertical-align: middle;\n",
       "    }\n",
       "\n",
       "    .dataframe tbody tr th {\n",
       "        vertical-align: top;\n",
       "    }\n",
       "\n",
       "    .dataframe thead th {\n",
       "        text-align: right;\n",
       "    }\n",
       "</style>\n",
       "<table border=\"1\" class=\"dataframe\">\n",
       "  <thead>\n",
       "    <tr style=\"text-align: right;\">\n",
       "      <th></th>\n",
       "      <th>City</th>\n",
       "      <th>Country</th>\n",
       "      <th>Max Temp</th>\n",
       "      <th>Lat</th>\n",
       "      <th>Lng</th>\n",
       "      <th>Hotel Name</th>\n",
       "    </tr>\n",
       "  </thead>\n",
       "  <tbody>\n",
       "    <tr>\n",
       "      <th>4</th>\n",
       "      <td>Atuona</td>\n",
       "      <td>PF</td>\n",
       "      <td>80.28</td>\n",
       "      <td>-9.80</td>\n",
       "      <td>-139.03</td>\n",
       "      <td></td>\n",
       "    </tr>\n",
       "    <tr>\n",
       "      <th>5</th>\n",
       "      <td>Ravar</td>\n",
       "      <td>IR</td>\n",
       "      <td>89.94</td>\n",
       "      <td>31.27</td>\n",
       "      <td>56.81</td>\n",
       "      <td></td>\n",
       "    </tr>\n",
       "    <tr>\n",
       "      <th>8</th>\n",
       "      <td>Labuan</td>\n",
       "      <td>MY</td>\n",
       "      <td>82.40</td>\n",
       "      <td>5.28</td>\n",
       "      <td>115.24</td>\n",
       "      <td></td>\n",
       "    </tr>\n",
       "    <tr>\n",
       "      <th>9</th>\n",
       "      <td>Butaritari</td>\n",
       "      <td>KI</td>\n",
       "      <td>82.89</td>\n",
       "      <td>3.07</td>\n",
       "      <td>172.79</td>\n",
       "      <td></td>\n",
       "    </tr>\n",
       "    <tr>\n",
       "      <th>19</th>\n",
       "      <td>Ailigandi</td>\n",
       "      <td>PA</td>\n",
       "      <td>85.28</td>\n",
       "      <td>9.23</td>\n",
       "      <td>-78.02</td>\n",
       "      <td></td>\n",
       "    </tr>\n",
       "    <tr>\n",
       "      <th>...</th>\n",
       "      <td>...</td>\n",
       "      <td>...</td>\n",
       "      <td>...</td>\n",
       "      <td>...</td>\n",
       "      <td>...</td>\n",
       "      <td>...</td>\n",
       "    </tr>\n",
       "    <tr>\n",
       "      <th>561</th>\n",
       "      <td>Urucurituba</td>\n",
       "      <td>BR</td>\n",
       "      <td>83.34</td>\n",
       "      <td>-2.68</td>\n",
       "      <td>-57.67</td>\n",
       "      <td></td>\n",
       "    </tr>\n",
       "    <tr>\n",
       "      <th>564</th>\n",
       "      <td>Acapulco</td>\n",
       "      <td>MX</td>\n",
       "      <td>77.00</td>\n",
       "      <td>16.86</td>\n",
       "      <td>-99.89</td>\n",
       "      <td></td>\n",
       "    </tr>\n",
       "    <tr>\n",
       "      <th>565</th>\n",
       "      <td>Frontera</td>\n",
       "      <td>MX</td>\n",
       "      <td>86.00</td>\n",
       "      <td>26.93</td>\n",
       "      <td>-101.45</td>\n",
       "      <td></td>\n",
       "    </tr>\n",
       "    <tr>\n",
       "      <th>572</th>\n",
       "      <td>Torit</td>\n",
       "      <td>SS</td>\n",
       "      <td>86.97</td>\n",
       "      <td>4.41</td>\n",
       "      <td>32.57</td>\n",
       "      <td></td>\n",
       "    </tr>\n",
       "    <tr>\n",
       "      <th>573</th>\n",
       "      <td>Sibu</td>\n",
       "      <td>MY</td>\n",
       "      <td>84.20</td>\n",
       "      <td>2.30</td>\n",
       "      <td>111.82</td>\n",
       "      <td></td>\n",
       "    </tr>\n",
       "  </tbody>\n",
       "</table>\n",
       "<p>195 rows × 6 columns</p>\n",
       "</div>"
      ],
      "text/plain": [
       "            City Country  Max Temp    Lat     Lng Hotel Name\n",
       "4         Atuona      PF     80.28  -9.80 -139.03           \n",
       "5          Ravar      IR     89.94  31.27   56.81           \n",
       "8         Labuan      MY     82.40   5.28  115.24           \n",
       "9     Butaritari      KI     82.89   3.07  172.79           \n",
       "19     Ailigandi      PA     85.28   9.23  -78.02           \n",
       "..           ...     ...       ...    ...     ...        ...\n",
       "561  Urucurituba      BR     83.34  -2.68  -57.67           \n",
       "564     Acapulco      MX     77.00  16.86  -99.89           \n",
       "565     Frontera      MX     86.00  26.93 -101.45           \n",
       "572        Torit      SS     86.97   4.41   32.57           \n",
       "573         Sibu      MY     84.20   2.30  111.82           \n",
       "\n",
       "[195 rows x 6 columns]"
      ]
     },
     "execution_count": 33,
     "metadata": {},
     "output_type": "execute_result"
    }
   ],
   "source": [
    "# Create DataFrame called hotel_df to store hotel names along with city, country, max temp, and coordinates.\n",
    "hotel_df = preferred_cities_df[[\"City\", \"Country\", \"Max Temp\", \"Lat\", \"Lng\"]].copy()\n",
    "hotel_df[\"Hotel Name\"] = \"\"\n",
    "hotel_df"
   ]
  },
  {
   "cell_type": "markdown",
   "metadata": {},
   "source": [
    "Retrieve Hotels from a Nearby Search"
   ]
  },
  {
   "cell_type": "code",
   "execution_count": 34,
   "metadata": {},
   "outputs": [],
   "source": [
    "# Dependencies and Setup\n",
    "import requests\n",
    "import gmaps\n",
    "\n",
    "# Import API key\n",
    "from config import g_key"
   ]
  },
  {
   "cell_type": "markdown",
   "metadata": {},
   "source": [
    "Practice Using a Fixed Latitude and Longitude"
   ]
  },
  {
   "cell_type": "code",
   "execution_count": 35,
   "metadata": {},
   "outputs": [],
   "source": [
    "# Set the parameters to search for a hotel in Paris.\n",
    "params = {\n",
    "    \"radius\": 5000,\n",
    "    \"types\": \"lodging\",\n",
    "    \"key\": g_key,\n",
    "    \"location\": \"48.8566, 2.3522\"}\n",
    "# Use base URL to search for hotels in Paris.\n",
    "base_url = \"https://maps.googleapis.com/maps/api/place/nearbysearch/json\"\n",
    "# Make request and get the JSON data from the search.\n",
    "hotels = requests.get(base_url, params=params).json()"
   ]
  },
  {
   "cell_type": "code",
   "execution_count": 36,
   "metadata": {},
   "outputs": [
    {
     "data": {
      "text/plain": [
       "20"
      ]
     },
     "execution_count": 36,
     "metadata": {},
     "output_type": "execute_result"
    }
   ],
   "source": [
    "len(hotels[\"results\"])"
   ]
  },
  {
   "cell_type": "code",
   "execution_count": 37,
   "metadata": {},
   "outputs": [
    {
     "data": {
      "text/plain": [
       "{'html_attributions': [],\n",
       " 'next_page_token': 'CqQCHAEAANwWnmWDspPRM5VbZIH7VpNkRql0N4a1RYTpHvqmqkbwBZyOYHvJwt4M7ZNaOqZXiycWBcoGBNDFgOhTu5UDUhYXGwIdYpzyvzayypUXVboMS1fv6VM3zr84r3ftkdmZ-U7lMOvWi3EqFeSWi8hXOj98bCIpcz-RDoz_irzNlXuhggXaPZ65kZciB82Vdk1fccs1XVUog5Fi8EyIf0VdPgbcbveiVXKW_qHBb55mWyGSfZiwhRXnDe0NJcaaSUk2BWP4sh2qZ13WB8eY7CZPBBmpj3jT6G-vPO_JoIwS6NSyIVvSHE_hm7LInXRECc7MYA4TV_s24VCOfQcmNc-HJzv2HINs32wDPmSIV08z2vFhiVNfEX1blg2yV3xfVGJ8nBIQQ0dWJo71_TGrW0jbAH3kyhoUYe3QQw0RfKm-SCzJX0N8SLzJAvA',\n",
       " 'results': [{'business_status': 'OPERATIONAL',\n",
       "   'geometry': {'location': {'lat': 48.8581126, 'lng': 2.3529277},\n",
       "    'viewport': {'northeast': {'lat': 48.8594393802915,\n",
       "      'lng': 2.354352980291502},\n",
       "     'southwest': {'lat': 48.8567414197085, 'lng': 2.351655019708498}}},\n",
       "   'icon': 'https://maps.gstatic.com/mapfiles/place_api/icons/lodging-71.png',\n",
       "   'id': '7fa47cb61d7345cecc3b802d0e04fcff2b3d5ecb',\n",
       "   'name': 'Hôtel Duo',\n",
       "   'opening_hours': {'open_now': True},\n",
       "   'photos': [{'height': 3840,\n",
       "     'html_attributions': ['<a href=\"https://maps.google.com/maps/contrib/107554201425443337224\">Hôtel Duo</a>'],\n",
       "     'photo_reference': 'CmRaAAAAdGZzbqBpskTCIezMhT-vRHW1fpU1WYAeajQH0EjMd5D8KRGDGF9ihY1FZRlJVgjmbt7ZIbWYXWgMFMLM97zNqymmL76RQxnfy4leOw1owRM2jV1jr_iMCdxP7k2JUDVLEhASXVXdukiYpTb2ej2TMd6HGhRNhRmikjCuqP9nEeeDj9cpPzJGqA',\n",
       "     'width': 5760}],\n",
       "   'place_id': 'ChIJWU9CqB1u5kcR5P1F2SMoJmc',\n",
       "   'plus_code': {'compound_code': 'V953+65 Paris, France',\n",
       "    'global_code': '8FW4V953+65'},\n",
       "   'rating': 4.2,\n",
       "   'reference': 'ChIJWU9CqB1u5kcR5P1F2SMoJmc',\n",
       "   'scope': 'GOOGLE',\n",
       "   'types': ['night_club',\n",
       "    'spa',\n",
       "    'lodging',\n",
       "    'bar',\n",
       "    'gym',\n",
       "    'health',\n",
       "    'point_of_interest',\n",
       "    'establishment'],\n",
       "   'user_ratings_total': 268,\n",
       "   'vicinity': '11 Rue du Temple, Paris'},\n",
       "  {'business_status': 'OPERATIONAL',\n",
       "   'geometry': {'location': {'lat': 48.8582861, 'lng': 2.3464944},\n",
       "    'viewport': {'northeast': {'lat': 48.8595495802915,\n",
       "      'lng': 2.347780980291502},\n",
       "     'southwest': {'lat': 48.8568516197085, 'lng': 2.345083019708498}}},\n",
       "   'icon': 'https://maps.gstatic.com/mapfiles/place_api/icons/lodging-71.png',\n",
       "   'id': '4d2e3fa9d12bf9feb685e628eaa4da9b180956a9',\n",
       "   'name': 'Hôtel Britannique - Paris Louvre',\n",
       "   'opening_hours': {'open_now': True},\n",
       "   'photos': [{'height': 1426,\n",
       "     'html_attributions': ['<a href=\"https://maps.google.com/maps/contrib/108984000175492464929\">Hôtel Britannique - Paris Louvre</a>'],\n",
       "     'photo_reference': 'CmRaAAAA7DP78X-IBzpSvyYx7GX9t0xYeZxTaqcQKKpQZl9iZc9UujMZ91QXz90bD1MBKJ72eY3xHUlGjLt_cYGR3fdwe5CFeeKQjDyoG9UtGpbkpCRXYACiEoqzi7Aog4WL1bboEhBQHQIGGZsbPsook8br4oJEGhTxmC8-shsxxxTCaqIpzhrgaY_3_A',\n",
       "     'width': 1476}],\n",
       "   'place_id': 'ChIJ-4Siox9u5kcRm9vM6DcMXyU',\n",
       "   'plus_code': {'compound_code': 'V85W+8H Paris, France',\n",
       "    'global_code': '8FW4V85W+8H'},\n",
       "   'rating': 4.6,\n",
       "   'reference': 'ChIJ-4Siox9u5kcRm9vM6DcMXyU',\n",
       "   'scope': 'GOOGLE',\n",
       "   'types': ['lodging', 'point_of_interest', 'establishment'],\n",
       "   'user_ratings_total': 246,\n",
       "   'vicinity': '20 Avenue Victoria, Paris'},\n",
       "  {'business_status': 'OPERATIONAL',\n",
       "   'geometry': {'location': {'lat': 48.8606655, 'lng': 2.3469293},\n",
       "    'viewport': {'northeast': {'lat': 48.8617681302915,\n",
       "      'lng': 2.348040180291502},\n",
       "     'southwest': {'lat': 48.8590701697085, 'lng': 2.345342219708498}}},\n",
       "   'icon': 'https://maps.gstatic.com/mapfiles/place_api/icons/lodging-71.png',\n",
       "   'id': '9f68a76d7e95a1f94ca131a0511bfe5ffa306818',\n",
       "   'name': 'Citadines Les Halles Paris (Apart Hotel Paris)',\n",
       "   'opening_hours': {'open_now': True},\n",
       "   'photos': [{'height': 496,\n",
       "     'html_attributions': ['<a href=\"https://maps.google.com/maps/contrib/102565262508115704337\">Citadines Les Halles Paris (Apart Hotel Paris)</a>'],\n",
       "     'photo_reference': 'CmRaAAAALLHVtwgi2vGL2tkvDFiux9rzCJl9-l0hj0omBxb-skUKrD4g6RA6nNVGqLbSvDE-7eSvi0BW3GRNhpXUoJU4w2DtDhrxJatFEYn1Ofj8msw8Txl0WpvV8QlyWssLul3_EhB9DIDrrvsyP_UFy144-yk6GhQ3X3j7ev4krY7IXxb4tqG8Ks7vCw',\n",
       "     'width': 745}],\n",
       "   'place_id': 'ChIJQ_QDrxhu5kcRJzNxLLEOSfU',\n",
       "   'plus_code': {'compound_code': 'V86W+7Q Paris, France',\n",
       "    'global_code': '8FW4V86W+7Q'},\n",
       "   'rating': 4.1,\n",
       "   'reference': 'ChIJQ_QDrxhu5kcRJzNxLLEOSfU',\n",
       "   'scope': 'GOOGLE',\n",
       "   'types': ['lodging', 'point_of_interest', 'establishment'],\n",
       "   'user_ratings_total': 789,\n",
       "   'vicinity': '4 Rue des Innocents, Paris'},\n",
       "  {'business_status': 'OPERATIONAL',\n",
       "   'geometry': {'location': {'lat': 48.8607658, 'lng': 2.3465318},\n",
       "    'viewport': {'northeast': {'lat': 48.8620011802915,\n",
       "      'lng': 2.347699630291502},\n",
       "     'southwest': {'lat': 48.8593032197085, 'lng': 2.345001669708498}}},\n",
       "   'icon': 'https://maps.gstatic.com/mapfiles/place_api/icons/lodging-71.png',\n",
       "   'id': 'd0fde78ef5688caa69780be22af2ec83d4adfd32',\n",
       "   'name': 'Novotel Paris Les Halles',\n",
       "   'opening_hours': {'open_now': True},\n",
       "   'photos': [{'height': 2000,\n",
       "     'html_attributions': ['<a href=\"https://maps.google.com/maps/contrib/111815616573299411056\">Novotel Paris Les Halles</a>'],\n",
       "     'photo_reference': 'CmRaAAAAmXauWvxNZCp9EQMYJen6_UxgPpcRXJkh_epT_jFc0VEuIoXYY_NkFM2XmFWEQ_vQtWCyEwyOfDisi5kc5p6sV_kLR6PbSuuuhCRGy7WAgiZXoiudjM1R-GjdaLJRGuDOEhCCdq5ATnIql3_mM0t9UEumGhQAEf_4_TZ7pqQjx7B3XGQO1lXTbw',\n",
       "     'width': 3000}],\n",
       "   'place_id': 'ChIJGW2pNx9u5kcRI3oyL8NG5BQ',\n",
       "   'plus_code': {'compound_code': 'V86W+8J Paris, France',\n",
       "    'global_code': '8FW4V86W+8J'},\n",
       "   'rating': 4.4,\n",
       "   'reference': 'ChIJGW2pNx9u5kcRI3oyL8NG5BQ',\n",
       "   'scope': 'GOOGLE',\n",
       "   'types': ['lodging', 'point_of_interest', 'establishment'],\n",
       "   'user_ratings_total': 2007,\n",
       "   'vicinity': '8 Place Marguerite de Navarre, Paris'},\n",
       "  {'business_status': 'OPERATIONAL',\n",
       "   'geometry': {'location': {'lat': 48.86034799999999, 'lng': 2.344054},\n",
       "    'viewport': {'northeast': {'lat': 48.8616503302915,\n",
       "      'lng': 2.345521080291502},\n",
       "     'southwest': {'lat': 48.8589523697085, 'lng': 2.342823119708498}}},\n",
       "   'icon': 'https://maps.gstatic.com/mapfiles/place_api/icons/lodging-71.png',\n",
       "   'id': '071875f44126b9c8284f24b598fdfce0ef2b15a8',\n",
       "   'name': 'Hôtel Ducs de Bourgogne',\n",
       "   'opening_hours': {'open_now': True},\n",
       "   'photos': [{'height': 1842,\n",
       "     'html_attributions': ['<a href=\"https://maps.google.com/maps/contrib/101411638353598558320\">Best Western Premier Ducs de Bourgogne</a>'],\n",
       "     'photo_reference': 'CmRaAAAAzz8ITbK4gFVOGRUjZ1KzK4-Kkz7nahPJ1qSnCQkDq94jYGFCHywQxIjgNVQW0S1CaFr3rQtn53c0J5mNTh8hv1CSYyXZHXht5EnJHeGBEmuNppHii220aABN740mtoGiEhACydWipXWDAj6UZgzCoJo2GhTfEI78M0eKe7VSY8LZxwMNeFCVig',\n",
       "     'width': 2880}],\n",
       "   'place_id': 'ChIJifTG5yFu5kcRdnisbwxnAx4',\n",
       "   'plus_code': {'compound_code': 'V86V+4J Paris, France',\n",
       "    'global_code': '8FW4V86V+4J'},\n",
       "   'rating': 4.5,\n",
       "   'reference': 'ChIJifTG5yFu5kcRdnisbwxnAx4',\n",
       "   'scope': 'GOOGLE',\n",
       "   'types': ['lodging', 'point_of_interest', 'establishment'],\n",
       "   'user_ratings_total': 263,\n",
       "   'vicinity': '19 Rue du Pont Neuf, Paris'},\n",
       "  {'business_status': 'OPERATIONAL',\n",
       "   'geometry': {'location': {'lat': 48.8555091, 'lng': 2.3408736},\n",
       "    'viewport': {'northeast': {'lat': 48.8569042302915,\n",
       "      'lng': 2.342317580291502},\n",
       "     'southwest': {'lat': 48.8542062697085, 'lng': 2.339619619708499}}},\n",
       "   'icon': 'https://maps.gstatic.com/mapfiles/place_api/icons/lodging-71.png',\n",
       "   'id': 'da46237a58939495edf652bdf976bd44df477f05',\n",
       "   'name': 'Citadines Saint-Germain-des-Prés Paris',\n",
       "   'opening_hours': {'open_now': True},\n",
       "   'photos': [{'height': 3024,\n",
       "     'html_attributions': ['<a href=\"https://maps.google.com/maps/contrib/116649065792056265685\">Gilsun LEE</a>'],\n",
       "     'photo_reference': 'CmRaAAAAzXfcblyQMPX3-C_n813lhwBxv3YHjmtJkNIgb3U4tnT9eILnracg9cj7BSXbMaKVQYlE03tHtJfttAVqjd2GcVu3EUcEsdtw987jHsho97nL53QW-iUYqJVrohN9OO_bEhAGTjujkrLGUOx1UTl8ZS4JGhQJo_DTWCEIO6wuoMQWrQndNw1agw',\n",
       "     'width': 4032}],\n",
       "   'place_id': 'ChIJo5pYcN9x5kcRERXdocMgqmE',\n",
       "   'plus_code': {'compound_code': 'V84R+68 Paris, France',\n",
       "    'global_code': '8FW4V84R+68'},\n",
       "   'rating': 4.3,\n",
       "   'reference': 'ChIJo5pYcN9x5kcRERXdocMgqmE',\n",
       "   'scope': 'GOOGLE',\n",
       "   'types': ['lodging', 'point_of_interest', 'establishment'],\n",
       "   'user_ratings_total': 639,\n",
       "   'vicinity': '53 ter Quai des Grands Augustins, Paris'},\n",
       "  {'business_status': 'OPERATIONAL',\n",
       "   'geometry': {'location': {'lat': 48.86634659999999, 'lng': 2.36064},\n",
       "    'viewport': {'northeast': {'lat': 48.8677623302915,\n",
       "      'lng': 2.361952180291502},\n",
       "     'southwest': {'lat': 48.86506436970851, 'lng': 2.359254219708498}}},\n",
       "   'icon': 'https://maps.gstatic.com/mapfiles/place_api/icons/lodging-71.png',\n",
       "   'id': '87ab2d184ee12f6be846d60470ed800629c99521',\n",
       "   'name': 'Paris France Hôtel',\n",
       "   'opening_hours': {'open_now': True},\n",
       "   'photos': [{'height': 2673,\n",
       "     'html_attributions': ['<a href=\"https://maps.google.com/maps/contrib/102332962500946068613\">Paris France Hôtel</a>'],\n",
       "     'photo_reference': 'CmRaAAAA22hU4Ha-MFNoJlGJVSS5Br5H_YYTcsnJe6sZH_9WK6FvKRC2_ssgHm0OpcDRLWzGabQ7l-9AbIILyqf3a8eyzl8EkEL4xJQckG_Kdk3unNxIRbZLz0naRnoY1bfC4sCNEhDceWhxlZ7z3zq5b3sjVQVHGhSxmsIhSF7IOh_WP6PG-iokY7kfGg',\n",
       "     'width': 3463}],\n",
       "   'place_id': 'ChIJhXWLZg9u5kcRDVyqoZYgcmg',\n",
       "   'plus_code': {'compound_code': 'V986+G7 Paris, France',\n",
       "    'global_code': '8FW4V986+G7'},\n",
       "   'rating': 4.3,\n",
       "   'reference': 'ChIJhXWLZg9u5kcRDVyqoZYgcmg',\n",
       "   'scope': 'GOOGLE',\n",
       "   'types': ['lodging', 'point_of_interest', 'establishment'],\n",
       "   'user_ratings_total': 367,\n",
       "   'vicinity': '72 Rue de Turbigo, Paris'},\n",
       "  {'business_status': 'OPERATIONAL',\n",
       "   'geometry': {'location': {'lat': 48.8549629, 'lng': 2.3331998},\n",
       "    'viewport': {'northeast': {'lat': 48.8563231802915,\n",
       "      'lng': 2.334450380291502},\n",
       "     'southwest': {'lat': 48.8536252197085, 'lng': 2.331752419708498}}},\n",
       "   'icon': 'https://maps.gstatic.com/mapfiles/place_api/icons/lodging-71.png',\n",
       "   'id': 'd466793620469a720b439cf769a6f4c28217ef88',\n",
       "   'name': 'Hôtel Bel Ami',\n",
       "   'opening_hours': {'open_now': True},\n",
       "   'photos': [{'height': 4377,\n",
       "     'html_attributions': ['<a href=\"https://maps.google.com/maps/contrib/111426311500153571368\">Hôtel Bel Ami</a>'],\n",
       "     'photo_reference': 'CmRaAAAAnYIEwz-XGEfghyW7U6PkVQGtUpVavzOkPOvDI5Iuok6ub79Lf8PGD7Zy5OnvpnWxsBDkJfX6S_nBdv0_iMt5Yn7oouVHQ_l6lb51FlZxij1p3DXxaL_6qemTQVEcePTDEhCen7tD32elik3P_fGl3CNKGhTomXxUqCaHlar5lpINp-GzozICdQ',\n",
       "     'width': 6566}],\n",
       "   'place_id': 'ChIJj0jPiddx5kcRnYv-p3-vfCA',\n",
       "   'plus_code': {'compound_code': 'V83M+X7 Paris, France',\n",
       "    'global_code': '8FW4V83M+X7'},\n",
       "   'rating': 4.6,\n",
       "   'reference': 'ChIJj0jPiddx5kcRnYv-p3-vfCA',\n",
       "   'scope': 'GOOGLE',\n",
       "   'types': ['spa',\n",
       "    'lodging',\n",
       "    'bar',\n",
       "    'restaurant',\n",
       "    'food',\n",
       "    'point_of_interest',\n",
       "    'establishment'],\n",
       "   'user_ratings_total': 448,\n",
       "   'vicinity': '7 Rue Saint-Benoît, Paris'},\n",
       "  {'business_status': 'OPERATIONAL',\n",
       "   'geometry': {'location': {'lat': 48.86386539999999, 'lng': 2.3325488},\n",
       "    'viewport': {'northeast': {'lat': 48.8650759802915,\n",
       "      'lng': 2.333775730291502},\n",
       "     'southwest': {'lat': 48.8623780197085, 'lng': 2.331077769708498}}},\n",
       "   'icon': 'https://maps.gstatic.com/mapfiles/place_api/icons/lodging-71.png',\n",
       "   'id': '20dd8ae8d6ad9bbbe4ea9c6caf623fa071be187f',\n",
       "   'name': 'Hotel Regina Louvre',\n",
       "   'opening_hours': {'open_now': True},\n",
       "   'photos': [{'height': 2828,\n",
       "     'html_attributions': ['<a href=\"https://maps.google.com/maps/contrib/109066439891801774697\">Hôtel Regina Louvre</a>'],\n",
       "     'photo_reference': 'CmRaAAAAWkVOWyzpY_M9Jid4Mz9O_-3DtXmM68N4xR8c6ezAuyoKggVSXpNHR2SVyqSitl0kJgaH0GqFj7tGwkRC52xFBoGt_OiXR-ZNZdqT4FpEBRpvuYDgGlXbkyd0R7TracPHEhATJqQiG8Dmfd4dEYzVppfzGhStpfF4GQF3p8fHrwoFmmzICmvzKg',\n",
       "     'width': 4242}],\n",
       "   'place_id': 'ChIJP_-HCS9u5kcRsj9b1x7Pl8w',\n",
       "   'plus_code': {'compound_code': 'V87M+G2 Paris, France',\n",
       "    'global_code': '8FW4V87M+G2'},\n",
       "   'rating': 4.5,\n",
       "   'reference': 'ChIJP_-HCS9u5kcRsj9b1x7Pl8w',\n",
       "   'scope': 'GOOGLE',\n",
       "   'types': ['lodging',\n",
       "    'bar',\n",
       "    'restaurant',\n",
       "    'food',\n",
       "    'point_of_interest',\n",
       "    'establishment'],\n",
       "   'user_ratings_total': 494,\n",
       "   'vicinity': '2 Place des Pyramides, Paris'},\n",
       "  {'business_status': 'OPERATIONAL',\n",
       "   'geometry': {'location': {'lat': 48.84756770000001, 'lng': 2.3718501},\n",
       "    'viewport': {'northeast': {'lat': 48.8488975302915,\n",
       "      'lng': 2.373108630291501},\n",
       "     'southwest': {'lat': 48.8461995697085, 'lng': 2.370410669708498}}},\n",
       "   'icon': 'https://maps.gstatic.com/mapfiles/place_api/icons/lodging-71.png',\n",
       "   'id': 'dd8abb1bc4b1337fc3bd3f26e92d36c9a31de2fd',\n",
       "   'name': 'Hôtel De France Gare de Lyon Bastille',\n",
       "   'photos': [{'height': 787,\n",
       "     'html_attributions': ['<a href=\"https://maps.google.com/maps/contrib/117462031751048846575\">Hôtel De France Gare de Lyon Bastille</a>'],\n",
       "     'photo_reference': 'CmRaAAAAGOEHwvZHxGSooQkTG5DC6vels-j8wZZbQLejtGpbAlxNl2b-bPQPSEeDuzC2vy1T14qIFSmBfM6xGjcgWrUc32pwvOZbNPyh6zmNAQCU784D4xNvQ0Ubhb4obzDy_EL6EhAoJpxOelc6h6_j_sjIWa9mGhSSq7fbJSGkmzNaXTfX8VeIso2VWg',\n",
       "     'width': 1181}],\n",
       "   'place_id': 'ChIJz6DBYgNy5kcRhOu1LhDIECM',\n",
       "   'plus_code': {'compound_code': 'R9XC+2P Paris, France',\n",
       "    'global_code': '8FW4R9XC+2P'},\n",
       "   'rating': 3.3,\n",
       "   'reference': 'ChIJz6DBYgNy5kcRhOu1LhDIECM',\n",
       "   'scope': 'GOOGLE',\n",
       "   'types': ['lodging', 'point_of_interest', 'establishment'],\n",
       "   'user_ratings_total': 375,\n",
       "   'vicinity': '12 Rue de Lyon, Paris'},\n",
       "  {'business_status': 'OPERATIONAL',\n",
       "   'geometry': {'location': {'lat': 48.8717386, 'lng': 2.3447052},\n",
       "    'viewport': {'northeast': {'lat': 48.8731394302915,\n",
       "      'lng': 2.346067130291502},\n",
       "     'southwest': {'lat': 48.8704414697085, 'lng': 2.343369169708498}}},\n",
       "   'icon': 'https://maps.gstatic.com/mapfiles/place_api/icons/lodging-71.png',\n",
       "   'id': '78d0f620a6cdf990371302f25505f3916839f53a',\n",
       "   'name': 'Hôtel Corona Opéra',\n",
       "   'photos': [{'height': 3024,\n",
       "     'html_attributions': ['<a href=\"https://maps.google.com/maps/contrib/105311226083684825186\">福山慎一</a>'],\n",
       "     'photo_reference': 'CmRaAAAAL1ByQkSNvy0BrgyYKASzxF-8Gpha1gyJq9GEwwvmZRk1OaVFGdh2cGFnersOFL-FQ846yA9BPFzGzuABH-8vcGv7C6ubL7RcKnt1I1ZCfCmSNTHyrdv-jv-PSd0KOOKeEhAyjjNQxQp-jxxA5_IklTYwGhT7M7cK_8DwgwK4ZmIn1Mnkge-m6w',\n",
       "     'width': 4032}],\n",
       "   'place_id': 'ChIJ8e3Qcj5u5kcR2MIGwNxustk',\n",
       "   'plus_code': {'compound_code': 'V8CV+MV Paris, France',\n",
       "    'global_code': '8FW4V8CV+MV'},\n",
       "   'rating': 4,\n",
       "   'reference': 'ChIJ8e3Qcj5u5kcR2MIGwNxustk',\n",
       "   'scope': 'GOOGLE',\n",
       "   'types': ['lodging', 'point_of_interest', 'establishment'],\n",
       "   'user_ratings_total': 303,\n",
       "   'vicinity': '8 Cité Bergère, Paris'},\n",
       "  {'business_status': 'OPERATIONAL',\n",
       "   'geometry': {'location': {'lat': 48.8423474, 'lng': 2.3632229},\n",
       "    'viewport': {'northeast': {'lat': 48.8436522302915,\n",
       "      'lng': 2.364706330291502},\n",
       "     'southwest': {'lat': 48.8409542697085, 'lng': 2.362008369708498}}},\n",
       "   'icon': 'https://maps.gstatic.com/mapfiles/place_api/icons/lodging-71.png',\n",
       "   'id': 'c2c8e3f55bda0fd2bec95cd85db83c756bfebe2c',\n",
       "   'name': 'Hôtel Libertel Austerlitz Jardin des Plantes',\n",
       "   'opening_hours': {'open_now': True},\n",
       "   'photos': [{'height': 683,\n",
       "     'html_attributions': ['<a href=\"https://maps.google.com/maps/contrib/113748802076686483057\">Hôtel Libertel Austerlitz Jardin des Plantes</a>'],\n",
       "     'photo_reference': 'CmRaAAAA0WISBZq-PokJmkHLoZfXHvsuUwIyMlnpfiKmhIz-cP8mej9VSENCixMNJXyuVdN_e9Wi7ISwSd4hvK5ImmUuGwC91iPPrUcyf1it3ytBXaowTwts_YfVoEoabHC86K2kEhBcEWgys8rCFonSfM9LbUKeGhTkPG867iZuOdDm999BmC5oGQtGbw',\n",
       "     'width': 1024}],\n",
       "   'place_id': 'ChIJe-udXPZx5kcRKURHNFv5BSw',\n",
       "   'plus_code': {'compound_code': 'R9R7+W7 Paris, France',\n",
       "    'global_code': '8FW4R9R7+W7'},\n",
       "   'rating': 3.9,\n",
       "   'reference': 'ChIJe-udXPZx5kcRKURHNFv5BSw',\n",
       "   'scope': 'GOOGLE',\n",
       "   'types': ['lodging', 'point_of_interest', 'establishment'],\n",
       "   'user_ratings_total': 416,\n",
       "   'vicinity': \"12 Boulevard de l'Hôpital, Paris\"},\n",
       "  {'business_status': 'OPERATIONAL',\n",
       "   'geometry': {'location': {'lat': 48.864294, 'lng': 2.3307997},\n",
       "    'viewport': {'northeast': {'lat': 48.8655772302915,\n",
       "      'lng': 2.332153880291502},\n",
       "     'southwest': {'lat': 48.8628792697085, 'lng': 2.329455919708498}}},\n",
       "   'icon': 'https://maps.gstatic.com/mapfiles/place_api/icons/lodging-71.png',\n",
       "   'id': '50797fba20cc1e735c57820607b18b04abf162b9',\n",
       "   'name': 'Saint James Albany Paris Hôtel Spa',\n",
       "   'photos': [{'height': 650,\n",
       "     'html_attributions': ['<a href=\"https://maps.google.com/maps/contrib/108570400659068256718\">Saint James Albany Paris Hôtel Spa</a>'],\n",
       "     'photo_reference': 'CmRaAAAAsl4Bjyby2bkzYk5O1lErXjRTpEpAt3BWqCHaXjSCcplkcnXs5Iqb0Z0Uc-DkedrXCmxcAdbHPnWkuVOtj58_DSokHOad-ovBVpmZX04K_kcpo5mtwI8v-j8M5OZb8mUSEhD3B605NFo7OWzird_rH1YiGhTiEayB5UzhPRVcLJ9qXMpzCWmLzQ',\n",
       "     'width': 802}],\n",
       "   'place_id': 'ChIJ8znTVS5u5kcREq8TmzOICFs',\n",
       "   'plus_code': {'compound_code': 'V87J+P8 Paris, France',\n",
       "    'global_code': '8FW4V87J+P8'},\n",
       "   'rating': 4,\n",
       "   'reference': 'ChIJ8znTVS5u5kcREq8TmzOICFs',\n",
       "   'scope': 'GOOGLE',\n",
       "   'types': ['spa',\n",
       "    'lodging',\n",
       "    'bar',\n",
       "    'restaurant',\n",
       "    'food',\n",
       "    'point_of_interest',\n",
       "    'establishment'],\n",
       "   'user_ratings_total': 1070,\n",
       "   'vicinity': '202 Rue de Rivoli, Paris'},\n",
       "  {'business_status': 'OPERATIONAL',\n",
       "   'geometry': {'location': {'lat': 48.87110329999999, 'lng': 2.3389728},\n",
       "    'viewport': {'northeast': {'lat': 48.87241758029149,\n",
       "      'lng': 2.340357630291502},\n",
       "     'southwest': {'lat': 48.8697196197085, 'lng': 2.337659669708498}}},\n",
       "   'icon': 'https://maps.gstatic.com/mapfiles/place_api/icons/lodging-71.png',\n",
       "   'id': 'ef15575a5c2adf57431313a0af490a78350630a5',\n",
       "   'name': 'Hôtel Icône',\n",
       "   'opening_hours': {'open_now': True},\n",
       "   'photos': [{'height': 1066,\n",
       "     'html_attributions': ['<a href=\"https://maps.google.com/maps/contrib/108137830440312077288\">Hôtel Icône</a>'],\n",
       "     'photo_reference': 'CmRaAAAAOgB0LI0KUlv8Nfy7FVRR97Jj9UveHggLnwqNdW54eWTV2fOLuYn_JO7YfF3otgtD6iCj-iuMrrZt6Q2KPAF6xt9Hb8CBJ3IKTSwm6FiQ6X-X5yZUqCQbyNgkTIKlYBNyEhDlcCDz-mhHKbc6Sh-uHRndGhQXuNyqsRkUoZ3HjYcJAv84_EWekQ',\n",
       "     'width': 1600}],\n",
       "   'place_id': 'ChIJpQvq5Dtu5kcR0COam2f7v_I',\n",
       "   'plus_code': {'compound_code': 'V8CQ+CH Paris, France',\n",
       "    'global_code': '8FW4V8CQ+CH'},\n",
       "   'rating': 3.7,\n",
       "   'reference': 'ChIJpQvq5Dtu5kcR0COam2f7v_I',\n",
       "   'scope': 'GOOGLE',\n",
       "   'types': ['lodging', 'point_of_interest', 'establishment'],\n",
       "   'user_ratings_total': 134,\n",
       "   'vicinity': \"4 Rue d'Amboise, Paris\"},\n",
       "  {'business_status': 'OPERATIONAL',\n",
       "   'geometry': {'location': {'lat': 48.86038899999999, 'lng': 2.323112},\n",
       "    'viewport': {'northeast': {'lat': 48.8617804302915,\n",
       "      'lng': 2.324489280291502},\n",
       "     'southwest': {'lat': 48.8590824697085, 'lng': 2.321791319708499}}},\n",
       "   'icon': 'https://maps.gstatic.com/mapfiles/place_api/icons/lodging-71.png',\n",
       "   'id': '7f368d30dd657e11d235029a91f97fb176c9bc9a',\n",
       "   'name': \"Hôtel 4 étoiles d'Orsay Paris 7ème - Esprit de France\",\n",
       "   'opening_hours': {'open_now': True},\n",
       "   'photos': [{'height': 3840,\n",
       "     'html_attributions': ['<a href=\"https://maps.google.com/maps/contrib/115556676131195822021\">Hôtel 4 étoiles d&#39;Orsay Paris 7ème - Esprit de France</a>'],\n",
       "     'photo_reference': 'CmRaAAAAthWOBqgxr77jpKkDmYBxF_RWL7-mgw4uqEgWlXRDcDReiuEA6n8RnfQaol09dmskzyDDVkSdZJvv-1Vl-by-I2pTAexrALnJi3_Cq0v0BhxNfrhFoIKNFXX-7IGqSuixEhCifSbEn_-Fv60S7UWRMYOEGhRDR3_RkJDe4OS88b3jKceU7DRi7Q',\n",
       "     'width': 5760}],\n",
       "   'place_id': 'ChIJu39_OCtu5kcRWVQ7SFa0J-k',\n",
       "   'plus_code': {'compound_code': 'V86F+56 Paris, France',\n",
       "    'global_code': '8FW4V86F+56'},\n",
       "   'rating': 4.6,\n",
       "   'reference': 'ChIJu39_OCtu5kcRWVQ7SFa0J-k',\n",
       "   'scope': 'GOOGLE',\n",
       "   'types': ['lodging', 'point_of_interest', 'establishment'],\n",
       "   'user_ratings_total': 207,\n",
       "   'vicinity': '93 Rue de Lille, Paris'},\n",
       "  {'business_status': 'OPERATIONAL',\n",
       "   'geometry': {'location': {'lat': 48.8661363, 'lng': 2.3260648},\n",
       "    'viewport': {'northeast': {'lat': 48.8674534302915,\n",
       "      'lng': 2.327513280291502},\n",
       "     'southwest': {'lat': 48.8647554697085, 'lng': 2.324815319708498}}},\n",
       "   'icon': 'https://maps.gstatic.com/mapfiles/place_api/icons/lodging-71.png',\n",
       "   'id': '3706e8da44cbce856612cc5e666bd4e25076a0d8',\n",
       "   'name': 'Hôtel Mayfair Paris',\n",
       "   'opening_hours': {'open_now': True},\n",
       "   'photos': [{'height': 1365,\n",
       "     'html_attributions': ['<a href=\"https://maps.google.com/maps/contrib/113789389085635834164\">Hôtel Mayfair Paris</a>'],\n",
       "     'photo_reference': 'CmRaAAAA0FUMSjCQG8Yp9Cu0uePHeu8X3tPfUvqYBpXoRTSuB_RotaSPwJT_NDHsQWNuQPowfwBo0fFp6EG05lijZCzVSIhLSAGtDRxVdmK115T_Sko8APSu8oXZm0qroHCS_uPhEhAAS1UOBcVFmha-z_wStkEuGhQmpvLuVFX-X53iioQWZa20yy8txA',\n",
       "     'width': 2048}],\n",
       "   'place_id': 'ChIJTXVIhS1u5kcRlm9-RG0srQs',\n",
       "   'plus_code': {'compound_code': 'V88G+FC Paris, France',\n",
       "    'global_code': '8FW4V88G+FC'},\n",
       "   'rating': 4.2,\n",
       "   'reference': 'ChIJTXVIhS1u5kcRlm9-RG0srQs',\n",
       "   'scope': 'GOOGLE',\n",
       "   'types': ['lodging', 'point_of_interest', 'establishment'],\n",
       "   'user_ratings_total': 246,\n",
       "   'vicinity': '3 Rue Rouget de Lisle, Paris'},\n",
       "  {'business_status': 'OPERATIONAL',\n",
       "   'geometry': {'location': {'lat': 48.8758937, 'lng': 2.3591167},\n",
       "    'viewport': {'northeast': {'lat': 48.8772989802915,\n",
       "      'lng': 2.360423530291502},\n",
       "     'southwest': {'lat': 48.8746010197085, 'lng': 2.357725569708498}}},\n",
       "   'icon': 'https://maps.gstatic.com/mapfiles/place_api/icons/lodging-71.png',\n",
       "   'id': '243057f371f2061f228c750901650cd7fb66d5e3',\n",
       "   'name': \"Holiday Inn Paris - Gare de l'Est\",\n",
       "   'opening_hours': {'open_now': True},\n",
       "   'photos': [{'height': 1366,\n",
       "     'html_attributions': ['<a href=\"https://maps.google.com/maps/contrib/102027969916801631519\">Holiday Inn Paris - Gare de l&#39;Est</a>'],\n",
       "     'photo_reference': 'CmRaAAAAEzglMCWX6KWdT6wBR24n8InI9eDYV26wJbAUQz5SfCM1B7QnuVonW_e5xAdAoCCj7yHbAw5JymVVUwWzK5tibaWEy5n_URxDukk7Xq4737wpgzYg3Bm4Vipx3_Lwq1iEEhBrHL-qSIe-C2oz_hy9yck0GhTKw82M24S1o3-yNkqeDUvYQoM0bQ',\n",
       "     'width': 2048}],\n",
       "   'place_id': 'ChIJwUHJSg1u5kcRhNqw_oQNeKI',\n",
       "   'plus_code': {'compound_code': 'V9G5+9J Paris, France',\n",
       "    'global_code': '8FW4V9G5+9J'},\n",
       "   'rating': 3.8,\n",
       "   'reference': 'ChIJwUHJSg1u5kcRhNqw_oQNeKI',\n",
       "   'scope': 'GOOGLE',\n",
       "   'types': ['lodging', 'point_of_interest', 'establishment'],\n",
       "   'user_ratings_total': 1523,\n",
       "   'vicinity': '45 Rue du 8 Mai 1945 5, Paris'},\n",
       "  {'business_status': 'OPERATIONAL',\n",
       "   'geometry': {'location': {'lat': 48.8722237, 'lng': 2.3333825},\n",
       "    'viewport': {'northeast': {'lat': 48.8734799302915,\n",
       "      'lng': 2.334607880291502},\n",
       "     'southwest': {'lat': 48.8707819697085, 'lng': 2.331909919708498}}},\n",
       "   'icon': 'https://maps.gstatic.com/mapfiles/place_api/icons/lodging-71.png',\n",
       "   'id': 'f5498c1ca2d603ee13df8183a714828bca6cdd18',\n",
       "   'name': 'W Paris Opéra',\n",
       "   'opening_hours': {'open_now': True},\n",
       "   'photos': [{'height': 1366,\n",
       "     'html_attributions': ['<a href=\"https://maps.google.com/maps/contrib/102893350184547703500\">W Paris - Opéra</a>'],\n",
       "     'photo_reference': 'CmRaAAAAD0X1PTB0eHSD6UkudTHWTmibQy7RA7_Hp7SmAsf3vnyC_RpE35oYec0J2e2f9FBQ30fQIF1p8MD5eVje1Jt-x2hXbCerAsp9f99bd3AmE4r9pIVLL6-i775ja5M2GqtrEhA9h5E1ht_hlnqtlE7-Rf7xGhStMiWraW0p_iKxnWdDaDjCpFN3pA',\n",
       "     'width': 2048}],\n",
       "   'place_id': 'ChIJiVMcgTRu5kcRbXfOviG7AqI',\n",
       "   'plus_code': {'compound_code': 'V8CM+V9 Paris, France',\n",
       "    'global_code': '8FW4V8CM+V9'},\n",
       "   'rating': 4.2,\n",
       "   'reference': 'ChIJiVMcgTRu5kcRbXfOviG7AqI',\n",
       "   'scope': 'GOOGLE',\n",
       "   'types': ['lodging', 'point_of_interest', 'establishment'],\n",
       "   'user_ratings_total': 494,\n",
       "   'vicinity': '4 Rue Meyerbeer, Paris'},\n",
       "  {'business_status': 'OPERATIONAL',\n",
       "   'geometry': {'location': {'lat': 48.8708361, 'lng': 2.3307253},\n",
       "    'viewport': {'northeast': {'lat': 48.8722390802915,\n",
       "      'lng': 2.331806380291502},\n",
       "     'southwest': {'lat': 48.8695411197085, 'lng': 2.329108419708498}}},\n",
       "   'icon': 'https://maps.gstatic.com/mapfiles/place_api/icons/lodging-71.png',\n",
       "   'id': 'd6ba3a2b30901ccace2218442b181313eb1b59cf',\n",
       "   'name': 'InterContinental Paris - Le Grand',\n",
       "   'opening_hours': {'open_now': True},\n",
       "   'photos': [{'height': 3608,\n",
       "     'html_attributions': ['<a href=\"https://maps.google.com/maps/contrib/107945298839607703601\">InterContinental Paris - Le Grand</a>'],\n",
       "     'photo_reference': 'CmRaAAAA-EAKzaBEV1R8ZFCezmhhEILMdrONhk3equZg3v8bqyE8MJphplSqMJBS6l6ok4LGr1G4t0wvFARaWecuuCeqXl3rcrLfYw7jChYsyNTCqeq2cespDvVSlRuJB6P6KCzJEhCC4R5_zevUUd2GxBNHodgBGhTbTX6HHh_B6HRUExgmJO0bd4PcHg',\n",
       "     'width': 5108}],\n",
       "   'place_id': 'ChIJt4LY5C1u5kcRZmZx4KyzhVM',\n",
       "   'plus_code': {'compound_code': 'V8CJ+87 Paris, France',\n",
       "    'global_code': '8FW4V8CJ+87'},\n",
       "   'rating': 4.6,\n",
       "   'reference': 'ChIJt4LY5C1u5kcRZmZx4KyzhVM',\n",
       "   'scope': 'GOOGLE',\n",
       "   'types': ['lodging', 'point_of_interest', 'establishment'],\n",
       "   'user_ratings_total': 2385,\n",
       "   'vicinity': '2 Rue Scribe, Paris'},\n",
       "  {'business_status': 'OPERATIONAL',\n",
       "   'geometry': {'location': {'lat': 48.8705685, 'lng': 2.3297304},\n",
       "    'viewport': {'northeast': {'lat': 48.8717600302915,\n",
       "      'lng': 2.331226730291502},\n",
       "     'southwest': {'lat': 48.86906206970851, 'lng': 2.328528769708498}}},\n",
       "   'icon': 'https://maps.gstatic.com/mapfiles/place_api/icons/lodging-71.png',\n",
       "   'id': '4685a8ea0443f8de2b935474f6824f1015063b96',\n",
       "   'name': 'Sofitel Le Scribe Paris Opéra',\n",
       "   'opening_hours': {'open_now': True},\n",
       "   'photos': [{'height': 1334,\n",
       "     'html_attributions': ['<a href=\"https://maps.google.com/maps/contrib/111756809098022137449\">Sofitel Le Scribe Paris Opéra</a>'],\n",
       "     'photo_reference': 'CmRaAAAAD34pOf-vpZU5ajcLArU9AS1mtbasoXxzPPpiIJIB6NXukDZE0Ed10TnYodQOKzMnlTwfRT_fcOKvjbkK88Pj_vv7ZVMToYh6j6mw38iuLGNA0PLhe6FhWzFeVO8TqEHQEhCy-ssYyiCUgkB87OCEecZEGhTq2PDbIl7epWYmExgbYJpzpLva4Q',\n",
       "     'width': 2000}],\n",
       "   'place_id': 'ChIJz7k5yzZu5kcRRdYVAr48Zv8',\n",
       "   'plus_code': {'compound_code': 'V8CH+6V Paris, France',\n",
       "    'global_code': '8FW4V8CH+6V'},\n",
       "   'rating': 4.4,\n",
       "   'reference': 'ChIJz7k5yzZu5kcRRdYVAr48Zv8',\n",
       "   'scope': 'GOOGLE',\n",
       "   'types': ['lodging', 'point_of_interest', 'establishment'],\n",
       "   'user_ratings_total': 764,\n",
       "   'vicinity': '1 Rue Scribe, Paris'}],\n",
       " 'status': 'OK'}"
      ]
     },
     "execution_count": 37,
     "metadata": {},
     "output_type": "execute_result"
    }
   ],
   "source": [
    "hotels"
   ]
  },
  {
   "cell_type": "code",
   "execution_count": 41,
   "metadata": {},
   "outputs": [
    {
     "name": "stdout",
     "output_type": "stream",
     "text": [
      "No hotels found... skipping.\n",
      "No hotels found... skipping.\n",
      "No hotels found... skipping.\n",
      "No hotels found... skipping.\n",
      "No hotels found... skipping.\n",
      "No hotels found... skipping.\n",
      "No hotels found... skipping.\n",
      "No hotels found... skipping.\n",
      "No hotels found... skipping.\n",
      "No hotels found... skipping.\n",
      "No hotels found... skipping.\n",
      "No hotels found... skipping.\n",
      "No hotels found... skipping.\n",
      "No hotels found... skipping.\n",
      "No hotels found... skipping.\n"
     ]
    }
   ],
   "source": [
    "# Iterate through the DataFrame.\n",
    "for index, row in hotel_df.iterrows():\n",
    "    # Get the latitude and longitude.\n",
    "    lat = row[\"Lat\"]\n",
    "    lng = row[\"Lng\"]\n",
    "\n",
    "    # Add the latitude and longitude to location key for the params dictionary.\n",
    "    params[\"location\"] = f\"{lat},{lng}\"\n",
    "\n",
    "    # Use the search term: \"lodging\" and our latitude and longitude.\n",
    "    base_url = \"https://maps.googleapis.com/maps/api/place/nearbysearch/json\"\n",
    "    # Make request and get the JSON data from the search.\n",
    "    hotels = requests.get(base_url, params=params).json()\n",
    "    # Grab the first hotel from the results and store the name.\n",
    "    try:\n",
    "        hotel_df.loc[index, \"Hotel Name\"] = hotels[\"results\"][0][\"name\"]\n",
    "    except IndexError:\n",
    "        print(\"No hotels found... skipping.\")"
   ]
  },
  {
   "cell_type": "code",
   "execution_count": 42,
   "metadata": {},
   "outputs": [
    {
     "data": {
      "text/html": [
       "<div>\n",
       "<style scoped>\n",
       "    .dataframe tbody tr th:only-of-type {\n",
       "        vertical-align: middle;\n",
       "    }\n",
       "\n",
       "    .dataframe tbody tr th {\n",
       "        vertical-align: top;\n",
       "    }\n",
       "\n",
       "    .dataframe thead th {\n",
       "        text-align: right;\n",
       "    }\n",
       "</style>\n",
       "<table border=\"1\" class=\"dataframe\">\n",
       "  <thead>\n",
       "    <tr style=\"text-align: right;\">\n",
       "      <th></th>\n",
       "      <th>City</th>\n",
       "      <th>Country</th>\n",
       "      <th>Max Temp</th>\n",
       "      <th>Lat</th>\n",
       "      <th>Lng</th>\n",
       "      <th>Hotel Name</th>\n",
       "    </tr>\n",
       "  </thead>\n",
       "  <tbody>\n",
       "    <tr>\n",
       "      <th>4</th>\n",
       "      <td>Atuona</td>\n",
       "      <td>PF</td>\n",
       "      <td>80.28</td>\n",
       "      <td>-9.80</td>\n",
       "      <td>-139.03</td>\n",
       "      <td>Villa Enata</td>\n",
       "    </tr>\n",
       "    <tr>\n",
       "      <th>5</th>\n",
       "      <td>Ravar</td>\n",
       "      <td>IR</td>\n",
       "      <td>89.94</td>\n",
       "      <td>31.27</td>\n",
       "      <td>56.81</td>\n",
       "      <td>computertik</td>\n",
       "    </tr>\n",
       "    <tr>\n",
       "      <th>8</th>\n",
       "      <td>Labuan</td>\n",
       "      <td>MY</td>\n",
       "      <td>82.40</td>\n",
       "      <td>5.28</td>\n",
       "      <td>115.24</td>\n",
       "      <td>Tiara Labuan Hotel</td>\n",
       "    </tr>\n",
       "    <tr>\n",
       "      <th>9</th>\n",
       "      <td>Butaritari</td>\n",
       "      <td>KI</td>\n",
       "      <td>82.89</td>\n",
       "      <td>3.07</td>\n",
       "      <td>172.79</td>\n",
       "      <td>Isles Sunset Lodge</td>\n",
       "    </tr>\n",
       "    <tr>\n",
       "      <th>19</th>\n",
       "      <td>Ailigandi</td>\n",
       "      <td>PA</td>\n",
       "      <td>85.28</td>\n",
       "      <td>9.23</td>\n",
       "      <td>-78.02</td>\n",
       "      <td>akwa reef lodge</td>\n",
       "    </tr>\n",
       "    <tr>\n",
       "      <th>...</th>\n",
       "      <td>...</td>\n",
       "      <td>...</td>\n",
       "      <td>...</td>\n",
       "      <td>...</td>\n",
       "      <td>...</td>\n",
       "      <td>...</td>\n",
       "    </tr>\n",
       "    <tr>\n",
       "      <th>561</th>\n",
       "      <td>Urucurituba</td>\n",
       "      <td>BR</td>\n",
       "      <td>83.34</td>\n",
       "      <td>-2.68</td>\n",
       "      <td>-57.67</td>\n",
       "      <td></td>\n",
       "    </tr>\n",
       "    <tr>\n",
       "      <th>564</th>\n",
       "      <td>Acapulco</td>\n",
       "      <td>MX</td>\n",
       "      <td>77.00</td>\n",
       "      <td>16.86</td>\n",
       "      <td>-99.89</td>\n",
       "      <td>HS Hotsson Smart Acapulco</td>\n",
       "    </tr>\n",
       "    <tr>\n",
       "      <th>565</th>\n",
       "      <td>Frontera</td>\n",
       "      <td>MX</td>\n",
       "      <td>86.00</td>\n",
       "      <td>26.93</td>\n",
       "      <td>-101.45</td>\n",
       "      <td>Fiesta Inn Monclova</td>\n",
       "    </tr>\n",
       "    <tr>\n",
       "      <th>572</th>\n",
       "      <td>Torit</td>\n",
       "      <td>SS</td>\n",
       "      <td>86.97</td>\n",
       "      <td>4.41</td>\n",
       "      <td>32.57</td>\n",
       "      <td>Diplomat Guest House</td>\n",
       "    </tr>\n",
       "    <tr>\n",
       "      <th>573</th>\n",
       "      <td>Sibu</td>\n",
       "      <td>MY</td>\n",
       "      <td>84.20</td>\n",
       "      <td>2.30</td>\n",
       "      <td>111.82</td>\n",
       "      <td>RH HOTEL (4 Star)</td>\n",
       "    </tr>\n",
       "  </tbody>\n",
       "</table>\n",
       "<p>195 rows × 6 columns</p>\n",
       "</div>"
      ],
      "text/plain": [
       "            City Country  Max Temp    Lat     Lng                 Hotel Name\n",
       "4         Atuona      PF     80.28  -9.80 -139.03                Villa Enata\n",
       "5          Ravar      IR     89.94  31.27   56.81                computertik\n",
       "8         Labuan      MY     82.40   5.28  115.24         Tiara Labuan Hotel\n",
       "9     Butaritari      KI     82.89   3.07  172.79         Isles Sunset Lodge\n",
       "19     Ailigandi      PA     85.28   9.23  -78.02            akwa reef lodge\n",
       "..           ...     ...       ...    ...     ...                        ...\n",
       "561  Urucurituba      BR     83.34  -2.68  -57.67                           \n",
       "564     Acapulco      MX     77.00  16.86  -99.89  HS Hotsson Smart Acapulco\n",
       "565     Frontera      MX     86.00  26.93 -101.45        Fiesta Inn Monclova\n",
       "572        Torit      SS     86.97   4.41   32.57       Diplomat Guest House\n",
       "573         Sibu      MY     84.20   2.30  111.82          RH HOTEL (4 Star)\n",
       "\n",
       "[195 rows x 6 columns]"
      ]
     },
     "execution_count": 42,
     "metadata": {},
     "output_type": "execute_result"
    }
   ],
   "source": [
    "hotel_df"
   ]
  },
  {
   "cell_type": "markdown",
   "metadata": {},
   "source": [
    "## Create a Maximum Temperature Heatmap from a Hotel DataFrame"
   ]
  },
  {
   "cell_type": "code",
   "execution_count": 43,
   "metadata": {},
   "outputs": [
    {
     "data": {
      "application/vnd.jupyter.widget-view+json": {
       "model_id": "2f0633d550634e4b9a8ef0a08e3f1466",
       "version_major": 2,
       "version_minor": 0
      },
      "text/plain": [
       "Figure(layout=FigureLayout(height='420px'))"
      ]
     },
     "metadata": {},
     "output_type": "display_data"
    }
   ],
   "source": [
    "# Add a heatmap of temperature for the vacation spots.\n",
    "locations = hotel_df[[\"Lat\", \"Lng\"]]\n",
    "max_temp = hotel_df[\"Max Temp\"]\n",
    "fig = gmaps.figure(center=(30.0, 31.0), zoom_level=1.5)\n",
    "heat_layer = gmaps.heatmap_layer(locations, weights=max_temp, dissipating=False,\n",
    "             max_intensity=300, point_radius=4)\n",
    "\n",
    "fig.add_layer(heat_layer)\n",
    "# Call the figure to plot the data.\n",
    "fig"
   ]
  },
  {
   "cell_type": "code",
   "execution_count": 44,
   "metadata": {
    "scrolled": true
   },
   "outputs": [
    {
     "data": {
      "application/vnd.jupyter.widget-view+json": {
       "model_id": "17ff017f7ee846c5b27db3f6471bcab0",
       "version_major": 2,
       "version_minor": 0
      },
      "text/plain": [
       "Figure(layout=FigureLayout(height='420px'))"
      ]
     },
     "metadata": {},
     "output_type": "display_data"
    }
   ],
   "source": [
    "# Add a heatmap of temperature for the vacation spots and marker for each city.\n",
    "locations = hotel_df[[\"Lat\", \"Lng\"]]\n",
    "max_temp = hotel_df[\"Max Temp\"]\n",
    "fig = gmaps.figure(center=(30.0, 31.0), zoom_level=1.5)\n",
    "heat_layer = gmaps.heatmap_layer(locations, weights=max_temp, \n",
    "             dissipating=False, max_intensity=300, point_radius=4)\n",
    "marker_layer = gmaps.marker_layer(locations)\n",
    "fig.add_layer(heat_layer)\n",
    "fig.add_layer(marker_layer)\n",
    "# Call the figure to plot the data.\n",
    "fig"
   ]
  },
  {
   "cell_type": "code",
   "execution_count": 45,
   "metadata": {},
   "outputs": [],
   "source": [
    "info_box_template = \"\"\"\n",
    "<dl>\n",
    "<dt>Hotel Name</dt><dd>{Hotel Name}</dd>\n",
    "<dt>City</dt><dd>{City}</dd>\n",
    "<dt>Country</dt><dd>{Country}</dd>\n",
    "<dt>Max Temp</dt><dd>{Max Temp} °F</dd>\n",
    "</dl>\n",
    "\"\"\""
   ]
  },
  {
   "cell_type": "code",
   "execution_count": 48,
   "metadata": {},
   "outputs": [
    {
     "data": {
      "application/vnd.jupyter.widget-view+json": {
       "model_id": "9467c6ebd97e4138b2e4d86261529f5c",
       "version_major": 2,
       "version_minor": 0
      },
      "text/plain": [
       "Figure(layout=FigureLayout(height='420px'))"
      ]
     },
     "metadata": {},
     "output_type": "display_data"
    }
   ],
   "source": [
    "# Add a heatmap of temperature for the vacation spots and marker for each city.\n",
    "locations = hotel_df[[\"Lat\", \"Lng\"]]\n",
    "max_temp = hotel_df[\"Max Temp\"]\n",
    "fig = gmaps.figure(center=(30.0, 31.0), zoom_level=1.5)\n",
    "heat_layer = gmaps.heatmap_layer(locations, weights=max_temp, \n",
    "             dissipating=False, max_intensity=300, point_radius=4)\n",
    "\n",
    "# Store the DataFrame Row.\n",
    "hotel_info = [info_box_template.format(**row) for index, row in hotel_df.iterrows()]\n",
    "\n",
    "marker_layer = gmaps.marker_layer(locations,info_box_content=hotel_info)\n",
    "fig.add_layer(heat_layer)\n",
    "fig.add_layer(marker_layer)\n",
    "# Call the figure to plot the data.\n",
    "fig"
   ]
  }
 ],
 "metadata": {
  "kernelspec": {
   "display_name": "PythonData",
   "language": "python",
   "name": "pythondata"
  },
  "language_info": {
   "codemirror_mode": {
    "name": "ipython",
    "version": 3
   },
   "file_extension": ".py",
   "mimetype": "text/x-python",
   "name": "python",
   "nbconvert_exporter": "python",
   "pygments_lexer": "ipython3",
   "version": "3.7.7"
  }
 },
 "nbformat": 4,
 "nbformat_minor": 4
}
